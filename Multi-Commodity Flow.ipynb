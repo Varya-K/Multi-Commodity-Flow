{
  "nbformat": 4,
  "nbformat_minor": 0,
  "metadata": {
    "colab": {
      "provenance": []
    },
    "kernelspec": {
      "name": "python3",
      "display_name": "Python 3"
    },
    "language_info": {
      "name": "python"
    }
  },
  "cells": [
    {
      "cell_type": "markdown",
      "source": [
        "# Multi-Commodity Flow"
      ],
      "metadata": {
        "id": "9D03gVndFekz"
      }
    },
    {
      "cell_type": "markdown",
      "source": [
        "**Выполнила: Ковалева Варвара**"
      ],
      "metadata": {
        "id": "X7PIgkWV-Gzh"
      }
    },
    {
      "cell_type": "markdown",
      "source": [
        "## Постановка задачи"
      ],
      "metadata": {
        "id": "ytcoa4XVFvdN"
      }
    },
    {
      "cell_type": "markdown",
      "source": [
        "### Дано:\n",
        "- Ориентированный граф $ G = (V, E) $\n",
        "- Множество товаров (commodities) $ K $\n",
        "- Для каждого товара $ k \\in K $: источник $ s_k $, сток $ t_k $, требуемый поток $ d_k $\n",
        "- Для каждого ребра $ e \\in E $: стоимость использования одним ТС $ c_e $, вместимость ТС $ C $\n",
        "- Для каждого узла $ v \\in V $: $ f_v \\in \\mathbb{R}_+ $ — стоимость перегруза единицы груза в узле $ v $, $ W_v \\in \\mathbb{R}_+ $ — максимальное количество перегруза в узле $ v $\n",
        "- Для каждого товара $ k \\in K $: $ \\Pi_k $ — множество всех возможных путей из $ s_k $ в $ t_k $ в графе $ G $\n",
        "\n",
        "---\n",
        "\n",
        "### Переменные:\n",
        "- $ x^k_p \\in \\mathbb{R}_+ $ — поток товара $ k $ по пути $ p \\in \\Pi_k $\n",
        "- $ y_e \\in \\mathbb{Z}_+ $ — количество ТС, используемых на ребре $ e \\in E $\n",
        "\n",
        "---\n",
        "\n",
        "### Целевая функция:\n",
        "$$\n",
        "\\min \\left(\n",
        "\\sum_{e \\in E} c_e \\cdot y_e +\n",
        "\\sum_{k \\in K} \\sum_{p \\in \\Pi_k}  \\sum_{\\substack{v \\in p \\\\ v \\neq s_k \\\\ v \\neq t_k}}  f_v \\cdot x^k_p\n",
        "\\right)\n",
        "$$\n",
        "\n",
        "---\n",
        "\n",
        "### Ограничения:\n",
        "\n",
        "1. **Полный поток для каждого товара:**\n",
        "   $$\n",
        "   \\sum_{p \\in \\Pi_k} x^k_p = d_k \\quad \\forall k \\in K\n",
        "   $$\n",
        "   *Обеспечивает удовлетворение спроса для каждого товара.*\n",
        "\n",
        "2. **Связь между потоком и количеством ТС:**\n",
        "   $$\n",
        "   \\sum_{k \\in K} \\sum_{p \\in \\Pi_k : e \\in p} x^k_p \\leq C \\cdot y_e \\quad \\forall e \\in E, \\quad y_e \\in \\mathbb{Z}_+\n",
        "   $$\n",
        "   *Количество ТС $ y_e $ определяется суммарным потоком на ребре $ e $.*\n",
        "\n",
        "3. **Неотрицательность потоков:**\n",
        "   $$\n",
        "   x^k_p \\geq 0 \\quad \\forall k \\in K, \\, \\forall p \\in \\Pi_k\n",
        "   $$\n",
        "\n",
        "4. **Максимальная перегрузка в узле**\n",
        "   $$\n",
        "   \\sum_{k \\in K} \\sum_{p \\in \\Pi_k}  \\sum_{\\substack{v \\in p \\\\ v \\neq s_k \\\\ v \\neq t_k}} x^k_p \\le W_e \\quad \\forall e \\in E\n",
        "   $$"
      ],
      "metadata": {
        "id": "28DbUl4eFzqv"
      }
    },
    {
      "cell_type": "code",
      "source": [
        "import pandas as pd\n",
        "import numpy as np\n",
        "import networkx as nx\n",
        "import itertools\n",
        "import time\n",
        "\n",
        "! pip install gurobipy -q\n",
        "\n",
        "import gurobipy as gp\n",
        "from gurobipy import GRB"
      ],
      "metadata": {
        "id": "VZd90AvZKR4D"
      },
      "execution_count": 1,
      "outputs": []
    },
    {
      "cell_type": "markdown",
      "source": [
        "## Подход к решению"
      ],
      "metadata": {
        "id": "dAFKY7mUIxXR"
      }
    },
    {
      "cell_type": "markdown",
      "source": [
        "В кратце алгоритм можно разбить на два этапа:\n",
        "1. Поиск результата без учета огрничения по максимальной перегрузке в узле\n",
        "2. Разгрузка перегруженных узлов с помощью итеративного исключения их из графа"
      ],
      "metadata": {
        "id": "_QuT6bqGxKix"
      }
    },
    {
      "cell_type": "markdown",
      "source": [
        "### 1. Расчёт результата без учета максимальной перегрузки в узлах"
      ],
      "metadata": {
        "id": "OLh12_jTxh1A"
      }
    },
    {
      "cell_type": "markdown",
      "source": [
        "После считывания данных и создания графа в виде списка ребер с стоимостями, модифицируем немного это список следующим образом: для каждого ребра добавим стоимости перегруза его концов. Это нужно для того, чтобы учесть стоимость перегруза в поиске крачайших путей.\n",
        "\n",
        "Собственно, следующий шаг и есть поиск k кратчайших путей, где k = 3.\n",
        "\n",
        "Затем с помощью солвера находим решение в путевой постановке задачи с использование найденных k кратчайших путей."
      ],
      "metadata": {
        "id": "W76Y5JFax6Pw"
      }
    },
    {
      "cell_type": "code",
      "source": [
        "class Data: # Общие данные задачи\n",
        "  def __init__(self, vehicle_capacity, folder):\n",
        "    self.offices_ids = []\n",
        "    self.products_ids = []\n",
        "    self.edges = []\n",
        "    self.offices = {}\n",
        "    self.products = {}\n",
        "    self.edges_price = {}\n",
        "    self.vehicle_capacity = vehicle_capacity\n",
        "\n",
        "    df_offices = pd.read_csv(folder+'offices.csv', usecols=['office_id','transfer_price','transfer_max'], dtype={'office_id':int,'transfer_price':float, 'transfer_max':int})\n",
        "    df_reqs = pd.read_csv(folder+'reqs.csv', dtype={'src_office_id':int,'dst_office_id':int,'volume':int})\n",
        "    df_distance_matrix = pd.read_csv(folder+'distance_matrix.csv', usecols =['src','dst','price'], dtype={'src':int,'dst':int, 'price':float})\n",
        "\n",
        "    for(i, row) in df_offices.iterrows():\n",
        "      self.offices_ids.append(row['office_id'])\n",
        "      self.offices[row['office_id']] = (row['transfer_price'], row['transfer_max'])\n",
        "\n",
        "    for(i, row) in df_reqs.iterrows():\n",
        "      self.products_ids.append(i)\n",
        "      self.products[i] = (row['src_office_id'], row['dst_office_id'], row['volume'])\n",
        "\n",
        "    for(i, row) in df_distance_matrix.iterrows():\n",
        "      if(row['src'] != row['dst'] and row['price']>0):\n",
        "        edge = (row['src'], row['dst'])\n",
        "        self.edges.append(edge)\n",
        "        self.edges_price[edge] = row['price']\n"
      ],
      "metadata": {
        "id": "b1-Jx5lvcnSe"
      },
      "execution_count": 2,
      "outputs": []
    },
    {
      "cell_type": "code",
      "source": [
        "class SolverData: # Данные, необходимые для солвера\n",
        "  def __init__(self):\n",
        "    self.product_path_ids = [] # массив (индекс товара - индекс пути)\n",
        "    self.product_path_count = {} # товар - количество путей\n",
        "    self.paths = {} # рассматриваемые пути продуктов\n",
        "    self.limited_offices = set()"
      ],
      "metadata": {
        "id": "275ACEgTkpEc"
      },
      "execution_count": 3,
      "outputs": []
    },
    {
      "cell_type": "code",
      "source": [
        "def count_price_of_edjes(edges_price, offices): # Расчет стоимостей ребер с учетом стоимостей перегруза в вершинах\n",
        "  edges_with_transfer_price = edges_price.copy()\n",
        "  for edge in edges_price:\n",
        "    edges_with_transfer_price[edge] += offices[edge[0]][0]+offices[edge[1]][0]\n",
        "  return edges_with_transfer_price"
      ],
      "metadata": {
        "id": "uCLLHnw0nuFq"
      },
      "execution_count": 4,
      "outputs": []
    },
    {
      "cell_type": "code",
      "source": [
        "def edges_to_nx_graph(edges_price):\n",
        "    G = nx.DiGraph()\n",
        "    for edge, price in edges_price.items():\n",
        "      G.add_edge(edge[0], edge[1], weight = price)\n",
        "    return G"
      ],
      "metadata": {
        "id": "R-hB033ZmdHt"
      },
      "execution_count": 5,
      "outputs": []
    },
    {
      "cell_type": "markdown",
      "source": [
        "Хоть мы и прибавили к каждому ребру стоимость перегрузки в его вершинах, стоит не забывать, что мы не учитываем эту стоимость в source и target вершинах. Поэтому в следующем методе как раз произходит вычитание их стоимостей из смежных с ними ребер."
      ],
      "metadata": {
        "id": "nLjzaoTi3sFP"
      }
    },
    {
      "cell_type": "code",
      "source": [
        "def remove_transfer_price_source_target(edges_with_transfer_price, source, target, offices):\n",
        "  edges_for_product = edges_with_transfer_price.copy()\n",
        "\n",
        "  price_source = offices[source][0]\n",
        "  price_target = offices[target][0]\n",
        "\n",
        "  prices = [price_source, price_source, price_target, price_target]\n",
        "\n",
        "  for v in offices:\n",
        "    edges = [(source, v), (v, source), (target, v), (v, target)]\n",
        "    for i in range(4):\n",
        "      if(edges[i] in edges_for_product):\n",
        "        edges_for_product[edges[i]] = edges_for_product[edges[i]] - prices[i]\n",
        "\n",
        "  return edges_for_product"
      ],
      "metadata": {
        "id": "hi7UIBLbuOyH"
      },
      "execution_count": 6,
      "outputs": []
    },
    {
      "cell_type": "code",
      "source": [
        "def calc_product_paths(edges_with_transfer_price, source, target, k, office): # Расчёт k-кратчайших путей для конкретного товара\n",
        "  edges_for_product = remove_transfer_price_source_target(edges_with_transfer_price, source, target, office)\n",
        "\n",
        "  graph = edges_to_nx_graph(edges_for_product)\n",
        "  paths_gen = nx.shortest_simple_paths(graph, source=source, target=target, weight='weight')\n",
        "  paths_list = list(itertools.islice(paths_gen, k))\n",
        "\n",
        "  return paths_list\n"
      ],
      "metadata": {
        "id": "9y5uSfRkeFon"
      },
      "execution_count": 7,
      "outputs": []
    },
    {
      "cell_type": "code",
      "source": [
        "def calc_paths(edges_with_transfer_price, data): # Расчёт кратчайших путей для всех товаров\n",
        "  paths = {}\n",
        "\n",
        "  for product, product_data in data.products.items():\n",
        "    count_of_paths = 3\n",
        "    paths[product] = calc_product_paths(edges_with_transfer_price, product_data[0], product_data[1], count_of_paths, data.offices)\n",
        "\n",
        "  return paths"
      ],
      "metadata": {
        "id": "FsXFlnauwlGR"
      },
      "execution_count": 8,
      "outputs": []
    },
    {
      "cell_type": "code",
      "source": [
        "def make_solver_data(paths, products): # Формирование данных для солвера\n",
        "  solver_data = SolverData()\n",
        "\n",
        "  for product, product_paths in paths.items():\n",
        "    solver_data.product_path_count[product] = len(product_paths)\n",
        "    for i, path in enumerate(product_paths):\n",
        "      solver_data.product_path_ids.append((product, i))\n",
        "      solver_data.paths[(product, i)] = path\n",
        "\n",
        "  max_ub = -1\n",
        "  for product, product_data in products.items():\n",
        "    max_ub = max(max_ub, product_data[2])\n",
        "\n",
        "  return solver_data"
      ],
      "metadata": {
        "id": "nnqoFvSW1jcK"
      },
      "execution_count": 9,
      "outputs": []
    },
    {
      "cell_type": "code",
      "source": [
        "def solve_min_cost_flow(data, solver_data): # Реализация солвера без учета ограничения на максимальный вес перегрузки\n",
        "\n",
        "  model = gp.Model('MinCostFlow')\n",
        "\n",
        "  # Переменные\n",
        "  x = model.addVars(solver_data.product_path_ids, name='flow', vtype = GRB.CONTINUOUS)\n",
        "  y = model.addVars(data.edges, name='vehicles count', lb=0, vtype = GRB.INTEGER)\n",
        "\n",
        "  # Целевая функция\n",
        "  model.setObjective(\n",
        "      gp.quicksum(data.edges_price[e]*y[e] for e in data.edges) + gp.quicksum(gp.quicksum(data.offices[v][0]*x[x_i_p] for v in solver_data.paths[x_i_p][1:-1]) for x_i_p in solver_data.product_path_ids),\n",
        "        GRB.MINIMIZE\n",
        "    )\n",
        "\n",
        "  # Ограничения\n",
        "\n",
        "  for product in data.products_ids:\n",
        "    model.addConstr(gp.quicksum(x[(product,p_i)] for p_i in range(solver_data.product_path_count[product])) == data.products[product][2])\n",
        "\n",
        "\n",
        "  edges_paths = {edge: set() for edge in data.edges}\n",
        "  offices_paths = {office: set() for office in data.offices_ids}\n",
        "  for product_path_id, path in solver_data.paths.items():\n",
        "    for i in range(len(path)-1):\n",
        "      edges_paths[(path[i], path[i+1])].add(product_path_id)\n",
        "      if(i!=0):\n",
        "        offices_paths[path[i]].add(product_path_id)\n",
        "\n",
        "\n",
        "\n",
        "  for e in data.edges:\n",
        "    model.addConstr(gp.quicksum(x[x_i_p] for x_i_p in edges_paths[e]) <= data.vehicle_capacity*y[e])\n",
        "\n",
        "  for office in solver_data.limited_offices:\n",
        "    model.addConstr(gp.quicksum(x[x_i_p] for x_i_p in offices_paths[office])<=data.offices[office][1])\n",
        "\n",
        "  # Решение\n",
        "  model.setParam('OutputFlag', 0)\n",
        "  start_time = time.time()\n",
        "  model.optimize()\n",
        "  sol_time = time.time() - start_time\n",
        "\n",
        "  if model.status == GRB.OPTIMAL:\n",
        "    flow = {product_path_id: x[product_path_id].x for product_path_id in solver_data.product_path_ids if x[product_path_id].x>0}\n",
        "    v_count = {e: y[e].x for e in data.edges}\n",
        "    obj_val = model.objVal\n",
        "    return flow, v_count ,obj_val\n",
        "  else:\n",
        "    return None, None, None"
      ],
      "metadata": {
        "id": "3naIar5Q7HW2"
      },
      "execution_count": 10,
      "outputs": []
    },
    {
      "cell_type": "markdown",
      "source": [
        "## 2. Разгрузка перегруженых узлов"
      ],
      "metadata": {
        "id": "hJ9qQ11R4pRJ"
      }
    },
    {
      "cell_type": "markdown",
      "source": [
        "На данном этапе происходит процесс разгрузки перегруженных узлов.\n",
        "\n",
        "Первым делом находим перегруженные узлы. Находим узел с наибольшим числом перегруза. Сортируем все пути через него по убыванию количества товара, которого перевозят по ним. Вычитаем данные значения количества товаров в порядке убывания из веса узла пока узел не перестанет быть перегруженным. Сохраним все удаленные пути для того чтобы найти для них альтернативные пути.\n",
        "\n",
        "Удаляем из графа этот перегруженный узел. Для каждого удаленного пути находим k-кратчайших путей для соответсвующих товаров. Грубо говоря, на данном этапе мы перестраиваем некторые пути так, чтобы избавится от перегруза, созданных в одном из узлах.\n",
        "\n",
        "Для всех путей из прошлого решения и новых найденных решаем задачу через солвер, добавляя ограничение на максимальный перегруз в этом узле.\n",
        "\n",
        "В любом случае, если граммотно заданы условия задачи, мы придем к ситуации, когда будет исключенно достаточно вершин и ни одна из оставшихся вершин не будет перегруженна."
      ],
      "metadata": {
        "id": "LzHhCG574xda"
      }
    },
    {
      "cell_type": "code",
      "source": [
        "class OverloadData: # Данные, расчитываемые при перегрузке вершин\n",
        "  def __init__(self):\n",
        "    self.overload_office = -1\n",
        "    self.overload_product = set()\n",
        "    self.overload_paths = set()\n",
        "    self.overload_path_offices = {}"
      ],
      "metadata": {
        "id": "YQ9iMBAmIrAW"
      },
      "execution_count": 11,
      "outputs": []
    },
    {
      "cell_type": "code",
      "source": [
        "from queue import PriorityQueue"
      ],
      "metadata": {
        "id": "dbH7N7eo9TJd"
      },
      "execution_count": 12,
      "outputs": []
    },
    {
      "cell_type": "code",
      "source": [
        "def calc_overloads(data, solver_data, flow): #Расчитать необходимые данные для процесса разгрузки\n",
        "  overloads = OverloadData()\n",
        "\n",
        "  office_weight = {office: 0 for office in data.offices_ids}\n",
        "  path_offices = {product_path_id: set() for product_path_id in solver_data.product_path_ids}\n",
        "  office_paths = {office: set() for office in data.offices_ids}\n",
        "  overloads_flow = flow.copy()\n",
        "\n",
        "  for product_path_id, weight in flow.items():\n",
        "    for office in solver_data.paths[product_path_id][1:-1]:\n",
        "      office_weight[office] += weight\n",
        "      office_paths[office].add(product_path_id)\n",
        "\n",
        "  overload_office_weight = {office: office_weight[office] - data.offices[office][1] for office in data.offices_ids }\n",
        "  max_office, max_overload_weight = max(overload_office_weight.items(), key=lambda x: x[1])\n",
        "\n",
        "  if(max_overload_weight<=0):\n",
        "    return overloads\n",
        "\n",
        "  overloads.overload_office = max_office\n",
        "  overloads.overload_paths.update(office_paths[max_office])\n",
        "\n",
        "  sorted_paths = sorted(office_paths[max_office], key=lambda x: flow[x], reverse=True)\n",
        "\n",
        "  while max_overload_weight>0:\n",
        "    path_to_delete = sorted_paths[0]\n",
        "    sorted_paths.pop(0)\n",
        "\n",
        "    weight_to_remove = min(max_overload_weight, overloads_flow[path_to_delete])\n",
        "    if(overloads_flow[path_to_delete]<=weight_to_remove):\n",
        "      overloads_flow.pop(path_to_delete)\n",
        "    else:\n",
        "      overloads_flow[path_to_delete] -= weight_to_remove\n",
        "    max_overload_weight-=weight_to_remove\n",
        "    office_weight[max_office]-=weight_to_remove\n",
        "    overloads.overload_product.add(path_to_delete[0])\n",
        "\n",
        "\n",
        "  for office, weight in office_weight.items():\n",
        "    if(weight == 100):\n",
        "      overloads.overload_paths.update(office_paths[office])\n",
        "\n",
        "  return overloads\n"
      ],
      "metadata": {
        "id": "lBsaI5kKJ-4t"
      },
      "execution_count": 13,
      "outputs": []
    },
    {
      "cell_type": "code",
      "source": [
        "def find_edges_with_overload_offices(edges_with_transfer_price, data, overload_offices): # Найти ребра, которые необходимо исключить в связи с исключением вершины графа\n",
        "  edges_without_overload = edges_with_transfer_price.copy()\n",
        "  for edge in edges_with_transfer_price:\n",
        "    if edge[0] in overload_offices or edge[1] in overload_offices:\n",
        "      edges_without_overload.pop(edge)\n",
        "\n",
        "  return edges_without_overload"
      ],
      "metadata": {
        "id": "eIv2B8jJeb4P"
      },
      "execution_count": 14,
      "outputs": []
    },
    {
      "cell_type": "code",
      "source": [
        "def calc_paths_overload(overloads, edges_with_transfer_price, data, solver_data, limited_offices, available_paths): # Расчет путей при разргрузке\n",
        "  paths = {product : [] for product in data.products_ids}\n",
        "\n",
        "  for product in overloads.overload_product:\n",
        "    product_data = data.products[product]\n",
        "    count_of_paths = 2\n",
        "    overload_offices = limited_offices.copy()\n",
        "    overload_offices.discard(product_data[0])\n",
        "    overload_offices.discard(product_data[1])\n",
        "    edges_for_product = find_edges_with_overload_offices(edges_with_transfer_price, data, overload_offices)\n",
        "    paths[product] = calc_product_paths(edges_for_product, product_data[0], product_data[1], count_of_paths, data.offices)\n",
        "\n",
        "\n",
        "  for product, paths1 in available_paths.items() :\n",
        "    paths[product]+=paths1\n",
        "    unique_paths = list(dict.fromkeys(map(tuple, paths[product])))\n",
        "    paths[product] = [list(path) for path in unique_paths]\n",
        "\n",
        "\n",
        "  return paths"
      ],
      "metadata": {
        "id": "Wc0MGoCSbIuU"
      },
      "execution_count": 15,
      "outputs": []
    },
    {
      "cell_type": "code",
      "source": [
        "def get_string_from_path(path): # Вспомогательны метод для красивово вывода в файл\n",
        "  string = '('\n",
        "  for i in range(len(path)-1):\n",
        "    string += str(int(path[i]))+', '\n",
        "  string += str(int(path[-1]))+')'\n",
        "  return string"
      ],
      "metadata": {
        "id": "paCdu5Oys5Lv"
      },
      "execution_count": 16,
      "outputs": []
    },
    {
      "cell_type": "code",
      "source": [
        "def write_result_into_file(file, flow, v_count , obj_val, sol_time, solver_data): # Запись результата в файл\n",
        "  with open(file, 'w') as f:\n",
        "    f.write('product, path, volume\\n')\n",
        "    for product_path_id, weight in flow.items():\n",
        "      f.write(str(product_path_id[0])+', '+get_string_from_path(solver_data.paths[product_path_id])+', '+str(weight)+'\\n')\n",
        "    f.write('\\nedge, vehicle_count\\n')\n",
        "    for edge, count in v_count.items():\n",
        "      if(count>0):\n",
        "        f.write('('+str(int(edge[0]))+', '+str(int(edge[1]))+'), '+str(count)+'\\n')\n",
        "    f.write('\\nResult: '+str(obj_val)+'\\n')\n",
        "    f.write('\\nSolution time: '+str(sol_time)+'\\n')"
      ],
      "metadata": {
        "id": "T8a8xi6Zoinm"
      },
      "execution_count": 17,
      "outputs": []
    },
    {
      "cell_type": "markdown",
      "source": [
        "Следующий метод и реализует весь процесс решения задачи"
      ],
      "metadata": {
        "id": "kyW4WOXq9Yj9"
      }
    },
    {
      "cell_type": "code",
      "source": [
        "def solve_MCF(vehicle_capacity, folder, output_file):\n",
        "  start_time = time.time()\n",
        "  data = Data(vehicle_capacity,folder)\n",
        "  edges_with_transfer_price = count_price_of_edjes(data.edges_price, data.offices)\n",
        "  paths = calc_paths(edges_with_transfer_price, data)\n",
        "  solver_data = make_solver_data(paths, data.products)\n",
        "  overload_path_offices = {path: set() for path in solver_data.product_path_ids}\n",
        "  limited_offices = set()\n",
        "  full_offices = set()\n",
        "  available_paths = {product : [] for product in data.products_ids}\n",
        "  step=1;\n",
        "\n",
        "  while (True):\n",
        "    flow, v_count, obj_val = solve_min_cost_flow(data, solver_data)\n",
        "\n",
        "    if(flow == None):\n",
        "      print (\"Грустная история(\")\n",
        "      break\n",
        "\n",
        "    for (product, path_id) in flow :\n",
        "      available_paths[product].append(solver_data.paths[(product, path_id)])\n",
        "      unique_paths = list(dict.fromkeys(map(tuple, paths[product])))\n",
        "      available_paths[product] = [list(path) for path in unique_paths]\n",
        "\n",
        "    print (step,\". \", obj_val)\n",
        "    step+=1\n",
        "    overloads = calc_overloads(data, solver_data, flow)\n",
        "    if (overloads.overload_office == -1):\n",
        "      break\n",
        "    limited_offices.add(overloads.overload_office)\n",
        "    for path, offices in overloads.overload_path_offices.items():\n",
        "      overload_path_offices[path].update(offices)\n",
        "    overloads.overload_path_offices = overload_path_offices.copy()\n",
        "    paths = calc_paths_overload(overloads, edges_with_transfer_price, data, solver_data,limited_offices, available_paths)\n",
        "    solver_data = make_solver_data(paths, data.products)\n",
        "    solver_data.limited_offices = limited_offices.copy()\n",
        "\n",
        "  sol_time = time.time() - start_time\n",
        "  if(flow != None):\n",
        "    write_result_into_file(output_file, flow, v_count , obj_val, sol_time, solver_data)\n",
        "    print('Result: '+str(obj_val)+'\\n')\n",
        "    print('Solution time: '+str(sol_time)+'\\n')\n"
      ],
      "metadata": {
        "id": "iWZrsWnyHh2p"
      },
      "execution_count": 18,
      "outputs": []
    },
    {
      "cell_type": "markdown",
      "source": [
        "## Результаты"
      ],
      "metadata": {
        "id": "SUoh-1249euA"
      }
    },
    {
      "cell_type": "code",
      "source": [
        "from google.colab import drive\n",
        "drive.mount('/content/drive')"
      ],
      "metadata": {
        "colab": {
          "base_uri": "https://localhost:8080/"
        },
        "id": "F3mVcXmXwn13",
        "outputId": "bb5d3492-2f93-4cdc-bf93-0b568ab9ddfc"
      },
      "execution_count": 19,
      "outputs": [
        {
          "output_type": "stream",
          "name": "stdout",
          "text": [
            "Drive already mounted at /content/drive; to attempt to forcibly remount, call drive.mount(\"/content/drive\", force_remount=True).\n"
          ]
        }
      ]
    },
    {
      "cell_type": "code",
      "source": [
        "solve_MCF(60, '/content/drive/My Drive/Colab Notebooks/MCF/4_nodes/', '4_nodes.txt')"
      ],
      "metadata": {
        "colab": {
          "base_uri": "https://localhost:8080/"
        },
        "id": "QefDr_nSHabx",
        "outputId": "d8606de4-6398-42c0-d049-843b857349b7"
      },
      "execution_count": 20,
      "outputs": [
        {
          "output_type": "stream",
          "name": "stdout",
          "text": [
            "Restricted license - for non-production use only - expires 2026-11-23\n",
            "1 .  24080.0\n",
            "2 .  24080.0\n",
            "Result: 24080.0\n",
            "\n",
            "Solution time: 0.03802752494812012\n",
            "\n"
          ]
        }
      ]
    },
    {
      "cell_type": "code",
      "source": [
        "solve_MCF(90, '/content/drive/My Drive/Colab Notebooks/MCF/10_nodes/', '10_nodes.txt')"
      ],
      "metadata": {
        "colab": {
          "base_uri": "https://localhost:8080/"
        },
        "id": "5Yl8_UHzsF2x",
        "outputId": "66a04c19-29b5-41ad-8382-b38a96a4cad0"
      },
      "execution_count": 21,
      "outputs": [
        {
          "output_type": "stream",
          "name": "stdout",
          "text": [
            "1 .  1060958962.6899999\n",
            "2 .  1182302058.6592\n",
            "3 .  1201685871.9268\n",
            "Result: 1201685871.9268\n",
            "\n",
            "Solution time: 0.35626769065856934\n",
            "\n"
          ]
        }
      ]
    },
    {
      "cell_type": "markdown",
      "source": [
        "С дата-сетов в 20 вершин почему-то не отрабатвыает даже часть без ограничения на максимальную перегрузку"
      ],
      "metadata": {
        "id": "5Rio-6i5Uzv4"
      }
    },
    {
      "cell_type": "code",
      "source": [
        "solve_MCF(90, '/content/drive/My Drive/Colab Notebooks/MCF/20_nodes/', '20_nodes.txt')"
      ],
      "metadata": {
        "colab": {
          "base_uri": "https://localhost:8080/"
        },
        "id": "HxFRkThd9ks-",
        "outputId": "807d3819-86dd-406e-f4c7-5071c61e78e9"
      },
      "execution_count": 22,
      "outputs": [
        {
          "output_type": "stream",
          "name": "stdout",
          "text": [
            "1 .  11383418665.927002\n",
            "Грустная история(\n"
          ]
        }
      ]
    },
    {
      "cell_type": "markdown",
      "source": [
        "А при попытке протестировать датасет с 50 и 140 вершинами столкнулась с ограничениями лиценции солвера ☹"
      ],
      "metadata": {
        "id": "3rza2F4-UwZG"
      }
    },
    {
      "cell_type": "code",
      "source": [
        "solve_MCF(90, '/content/drive/My Drive/Colab Notebooks/MCF/50_nodes/', '50_nodes.txt')"
      ],
      "metadata": {
        "id": "uOK5Iwbd9lI6",
        "colab": {
          "base_uri": "https://localhost:8080/",
          "height": 287
        },
        "outputId": "4e3530da-9665-4e26-c9a4-03892c6ce8b2"
      },
      "execution_count": 23,
      "outputs": [
        {
          "output_type": "error",
          "ename": "KeyboardInterrupt",
          "evalue": "",
          "traceback": [
            "\u001b[0;31m---------------------------------------------------------------------------\u001b[0m",
            "\u001b[0;31mKeyboardInterrupt\u001b[0m                         Traceback (most recent call last)",
            "\u001b[0;32m/tmp/ipython-input-3126570299.py\u001b[0m in \u001b[0;36m<cell line: 0>\u001b[0;34m()\u001b[0m\n\u001b[0;32m----> 1\u001b[0;31m \u001b[0msolve_MCF\u001b[0m\u001b[0;34m(\u001b[0m\u001b[0;36m90\u001b[0m\u001b[0;34m,\u001b[0m \u001b[0;34m'/content/drive/My Drive/Colab Notebooks/MCF/50_nodes/'\u001b[0m\u001b[0;34m,\u001b[0m \u001b[0;34m'50_nodes.txt'\u001b[0m\u001b[0;34m)\u001b[0m\u001b[0;34m\u001b[0m\u001b[0;34m\u001b[0m\u001b[0m\n\u001b[0m",
            "\u001b[0;32m/tmp/ipython-input-3582562667.py\u001b[0m in \u001b[0;36msolve_MCF\u001b[0;34m(vehicle_capacity, folder, output_file)\u001b[0m\n\u001b[1;32m      3\u001b[0m   \u001b[0mdata\u001b[0m \u001b[0;34m=\u001b[0m \u001b[0mData\u001b[0m\u001b[0;34m(\u001b[0m\u001b[0mvehicle_capacity\u001b[0m\u001b[0;34m,\u001b[0m\u001b[0mfolder\u001b[0m\u001b[0;34m)\u001b[0m\u001b[0;34m\u001b[0m\u001b[0;34m\u001b[0m\u001b[0m\n\u001b[1;32m      4\u001b[0m   \u001b[0medges_with_transfer_price\u001b[0m \u001b[0;34m=\u001b[0m \u001b[0mcount_price_of_edjes\u001b[0m\u001b[0;34m(\u001b[0m\u001b[0mdata\u001b[0m\u001b[0;34m.\u001b[0m\u001b[0medges_price\u001b[0m\u001b[0;34m,\u001b[0m \u001b[0mdata\u001b[0m\u001b[0;34m.\u001b[0m\u001b[0moffices\u001b[0m\u001b[0;34m)\u001b[0m\u001b[0;34m\u001b[0m\u001b[0;34m\u001b[0m\u001b[0m\n\u001b[0;32m----> 5\u001b[0;31m   \u001b[0mpaths\u001b[0m \u001b[0;34m=\u001b[0m \u001b[0mcalc_paths\u001b[0m\u001b[0;34m(\u001b[0m\u001b[0medges_with_transfer_price\u001b[0m\u001b[0;34m,\u001b[0m \u001b[0mdata\u001b[0m\u001b[0;34m)\u001b[0m\u001b[0;34m\u001b[0m\u001b[0;34m\u001b[0m\u001b[0m\n\u001b[0m\u001b[1;32m      6\u001b[0m   \u001b[0msolver_data\u001b[0m \u001b[0;34m=\u001b[0m \u001b[0mmake_solver_data\u001b[0m\u001b[0;34m(\u001b[0m\u001b[0mpaths\u001b[0m\u001b[0;34m,\u001b[0m \u001b[0mdata\u001b[0m\u001b[0;34m.\u001b[0m\u001b[0mproducts\u001b[0m\u001b[0;34m)\u001b[0m\u001b[0;34m\u001b[0m\u001b[0;34m\u001b[0m\u001b[0m\n\u001b[1;32m      7\u001b[0m   \u001b[0moverload_path_offices\u001b[0m \u001b[0;34m=\u001b[0m \u001b[0;34m{\u001b[0m\u001b[0mpath\u001b[0m\u001b[0;34m:\u001b[0m \u001b[0mset\u001b[0m\u001b[0;34m(\u001b[0m\u001b[0;34m)\u001b[0m \u001b[0;32mfor\u001b[0m \u001b[0mpath\u001b[0m \u001b[0;32min\u001b[0m \u001b[0msolver_data\u001b[0m\u001b[0;34m.\u001b[0m\u001b[0mproduct_path_ids\u001b[0m\u001b[0;34m}\u001b[0m\u001b[0;34m\u001b[0m\u001b[0;34m\u001b[0m\u001b[0m\n",
            "\u001b[0;32m/tmp/ipython-input-2027237216.py\u001b[0m in \u001b[0;36mcalc_paths\u001b[0;34m(edges_with_transfer_price, data)\u001b[0m\n\u001b[1;32m      4\u001b[0m   \u001b[0;32mfor\u001b[0m \u001b[0mproduct\u001b[0m\u001b[0;34m,\u001b[0m \u001b[0mproduct_data\u001b[0m \u001b[0;32min\u001b[0m \u001b[0mdata\u001b[0m\u001b[0;34m.\u001b[0m\u001b[0mproducts\u001b[0m\u001b[0;34m.\u001b[0m\u001b[0mitems\u001b[0m\u001b[0;34m(\u001b[0m\u001b[0;34m)\u001b[0m\u001b[0;34m:\u001b[0m\u001b[0;34m\u001b[0m\u001b[0;34m\u001b[0m\u001b[0m\n\u001b[1;32m      5\u001b[0m     \u001b[0mcount_of_paths\u001b[0m \u001b[0;34m=\u001b[0m \u001b[0;36m3\u001b[0m\u001b[0;34m\u001b[0m\u001b[0;34m\u001b[0m\u001b[0m\n\u001b[0;32m----> 6\u001b[0;31m     \u001b[0mpaths\u001b[0m\u001b[0;34m[\u001b[0m\u001b[0mproduct\u001b[0m\u001b[0;34m]\u001b[0m \u001b[0;34m=\u001b[0m \u001b[0mcalc_product_paths\u001b[0m\u001b[0;34m(\u001b[0m\u001b[0medges_with_transfer_price\u001b[0m\u001b[0;34m,\u001b[0m \u001b[0mproduct_data\u001b[0m\u001b[0;34m[\u001b[0m\u001b[0;36m0\u001b[0m\u001b[0;34m]\u001b[0m\u001b[0;34m,\u001b[0m \u001b[0mproduct_data\u001b[0m\u001b[0;34m[\u001b[0m\u001b[0;36m1\u001b[0m\u001b[0;34m]\u001b[0m\u001b[0;34m,\u001b[0m \u001b[0mcount_of_paths\u001b[0m\u001b[0;34m,\u001b[0m \u001b[0mdata\u001b[0m\u001b[0;34m.\u001b[0m\u001b[0moffices\u001b[0m\u001b[0;34m)\u001b[0m\u001b[0;34m\u001b[0m\u001b[0;34m\u001b[0m\u001b[0m\n\u001b[0m\u001b[1;32m      7\u001b[0m \u001b[0;34m\u001b[0m\u001b[0m\n\u001b[1;32m      8\u001b[0m   \u001b[0;32mreturn\u001b[0m \u001b[0mpaths\u001b[0m\u001b[0;34m\u001b[0m\u001b[0;34m\u001b[0m\u001b[0m\n",
            "\u001b[0;32m/tmp/ipython-input-474230668.py\u001b[0m in \u001b[0;36mcalc_product_paths\u001b[0;34m(edges_with_transfer_price, source, target, k, office)\u001b[0m\n\u001b[1;32m      4\u001b[0m   \u001b[0mgraph\u001b[0m \u001b[0;34m=\u001b[0m \u001b[0medges_to_nx_graph\u001b[0m\u001b[0;34m(\u001b[0m\u001b[0medges_for_product\u001b[0m\u001b[0;34m)\u001b[0m\u001b[0;34m\u001b[0m\u001b[0;34m\u001b[0m\u001b[0m\n\u001b[1;32m      5\u001b[0m   \u001b[0mpaths_gen\u001b[0m \u001b[0;34m=\u001b[0m \u001b[0mnx\u001b[0m\u001b[0;34m.\u001b[0m\u001b[0mshortest_simple_paths\u001b[0m\u001b[0;34m(\u001b[0m\u001b[0mgraph\u001b[0m\u001b[0;34m,\u001b[0m \u001b[0msource\u001b[0m\u001b[0;34m=\u001b[0m\u001b[0msource\u001b[0m\u001b[0;34m,\u001b[0m \u001b[0mtarget\u001b[0m\u001b[0;34m=\u001b[0m\u001b[0mtarget\u001b[0m\u001b[0;34m,\u001b[0m \u001b[0mweight\u001b[0m\u001b[0;34m=\u001b[0m\u001b[0;34m'weight'\u001b[0m\u001b[0;34m)\u001b[0m\u001b[0;34m\u001b[0m\u001b[0;34m\u001b[0m\u001b[0m\n\u001b[0;32m----> 6\u001b[0;31m   \u001b[0mpaths_list\u001b[0m \u001b[0;34m=\u001b[0m \u001b[0mlist\u001b[0m\u001b[0;34m(\u001b[0m\u001b[0mitertools\u001b[0m\u001b[0;34m.\u001b[0m\u001b[0mislice\u001b[0m\u001b[0;34m(\u001b[0m\u001b[0mpaths_gen\u001b[0m\u001b[0;34m,\u001b[0m \u001b[0mk\u001b[0m\u001b[0;34m)\u001b[0m\u001b[0;34m)\u001b[0m\u001b[0;34m\u001b[0m\u001b[0;34m\u001b[0m\u001b[0m\n\u001b[0m\u001b[1;32m      7\u001b[0m \u001b[0;34m\u001b[0m\u001b[0m\n\u001b[1;32m      8\u001b[0m   \u001b[0;32mreturn\u001b[0m \u001b[0mpaths_list\u001b[0m\u001b[0;34m\u001b[0m\u001b[0;34m\u001b[0m\u001b[0m\n",
            "\u001b[0;32m/usr/local/lib/python3.12/dist-packages/networkx/algorithms/simple_paths.py\u001b[0m in \u001b[0;36mshortest_simple_paths\u001b[0;34m(G, source, target, weight)\u001b[0m\n\u001b[1;32m    530\u001b[0m                         \u001b[0mignore_edges\u001b[0m\u001b[0;34m.\u001b[0m\u001b[0madd\u001b[0m\u001b[0;34m(\u001b[0m\u001b[0;34m(\u001b[0m\u001b[0mpath\u001b[0m\u001b[0;34m[\u001b[0m\u001b[0mi\u001b[0m \u001b[0;34m-\u001b[0m \u001b[0;36m1\u001b[0m\u001b[0;34m]\u001b[0m\u001b[0;34m,\u001b[0m \u001b[0mpath\u001b[0m\u001b[0;34m[\u001b[0m\u001b[0mi\u001b[0m\u001b[0;34m]\u001b[0m\u001b[0;34m)\u001b[0m\u001b[0;34m)\u001b[0m\u001b[0;34m\u001b[0m\u001b[0;34m\u001b[0m\u001b[0m\n\u001b[1;32m    531\u001b[0m                 \u001b[0;32mtry\u001b[0m\u001b[0;34m:\u001b[0m\u001b[0;34m\u001b[0m\u001b[0;34m\u001b[0m\u001b[0m\n\u001b[0;32m--> 532\u001b[0;31m                     length, spur = shortest_path_func(\n\u001b[0m\u001b[1;32m    533\u001b[0m                         \u001b[0mG\u001b[0m\u001b[0;34m,\u001b[0m\u001b[0;34m\u001b[0m\u001b[0;34m\u001b[0m\u001b[0m\n\u001b[1;32m    534\u001b[0m                         \u001b[0mroot\u001b[0m\u001b[0;34m[\u001b[0m\u001b[0;34m-\u001b[0m\u001b[0;36m1\u001b[0m\u001b[0;34m]\u001b[0m\u001b[0;34m,\u001b[0m\u001b[0;34m\u001b[0m\u001b[0;34m\u001b[0m\u001b[0m\n",
            "\u001b[0;32m/usr/local/lib/python3.12/dist-packages/networkx/algorithms/simple_paths.py\u001b[0m in \u001b[0;36m_bidirectional_dijkstra\u001b[0;34m(G, source, target, weight, ignore_nodes, ignore_edges)\u001b[0m\n\u001b[1;32m    937\u001b[0m                 \u001b[0mheappush\u001b[0m\u001b[0;34m(\u001b[0m\u001b[0mfringe\u001b[0m\u001b[0;34m[\u001b[0m\u001b[0mdir\u001b[0m\u001b[0;34m]\u001b[0m\u001b[0;34m,\u001b[0m \u001b[0;34m(\u001b[0m\u001b[0mvwLength\u001b[0m\u001b[0;34m,\u001b[0m \u001b[0mnext\u001b[0m\u001b[0;34m(\u001b[0m\u001b[0mc\u001b[0m\u001b[0;34m)\u001b[0m\u001b[0;34m,\u001b[0m \u001b[0mw\u001b[0m\u001b[0;34m)\u001b[0m\u001b[0;34m)\u001b[0m\u001b[0;34m\u001b[0m\u001b[0;34m\u001b[0m\u001b[0m\n\u001b[1;32m    938\u001b[0m                 \u001b[0mpaths\u001b[0m\u001b[0;34m[\u001b[0m\u001b[0mdir\u001b[0m\u001b[0;34m]\u001b[0m\u001b[0;34m[\u001b[0m\u001b[0mw\u001b[0m\u001b[0;34m]\u001b[0m \u001b[0;34m=\u001b[0m \u001b[0mpaths\u001b[0m\u001b[0;34m[\u001b[0m\u001b[0mdir\u001b[0m\u001b[0;34m]\u001b[0m\u001b[0;34m[\u001b[0m\u001b[0mv\u001b[0m\u001b[0;34m]\u001b[0m \u001b[0;34m+\u001b[0m \u001b[0;34m[\u001b[0m\u001b[0mw\u001b[0m\u001b[0;34m]\u001b[0m\u001b[0;34m\u001b[0m\u001b[0;34m\u001b[0m\u001b[0m\n\u001b[0;32m--> 939\u001b[0;31m                 \u001b[0;32mif\u001b[0m \u001b[0mw\u001b[0m \u001b[0;32min\u001b[0m \u001b[0mseen\u001b[0m\u001b[0;34m[\u001b[0m\u001b[0;36m0\u001b[0m\u001b[0;34m]\u001b[0m \u001b[0;32mand\u001b[0m \u001b[0mw\u001b[0m \u001b[0;32min\u001b[0m \u001b[0mseen\u001b[0m\u001b[0;34m[\u001b[0m\u001b[0;36m1\u001b[0m\u001b[0;34m]\u001b[0m\u001b[0;34m:\u001b[0m\u001b[0;34m\u001b[0m\u001b[0;34m\u001b[0m\u001b[0m\n\u001b[0m\u001b[1;32m    940\u001b[0m                     \u001b[0;31m# see if this path is better than the already\u001b[0m\u001b[0;34m\u001b[0m\u001b[0;34m\u001b[0m\u001b[0m\n\u001b[1;32m    941\u001b[0m                     \u001b[0;31m# discovered shortest path\u001b[0m\u001b[0;34m\u001b[0m\u001b[0;34m\u001b[0m\u001b[0m\n",
            "\u001b[0;31mKeyboardInterrupt\u001b[0m: "
          ]
        }
      ]
    },
    {
      "cell_type": "code",
      "source": [
        "solve_MCF(90, '/content/drive/My Drive/Colab Notebooks/MCF/140_nodes/', '140_nodes.txt')"
      ],
      "metadata": {
        "id": "ksVAHzee9lgi"
      },
      "execution_count": null,
      "outputs": []
    },
    {
      "cell_type": "markdown",
      "source": [
        "## Точное решение"
      ],
      "metadata": {
        "id": "cWj-dzYS9sgt"
      }
    },
    {
      "cell_type": "markdown",
      "source": [
        "Здесь я добавила решение задачи точным образом с помощью потоковой постановки задачи"
      ],
      "metadata": {
        "id": "RMBWxmrE9yzX"
      }
    },
    {
      "cell_type": "code",
      "source": [
        "class OptimSolverData:\n",
        "  def __init__(self):\n",
        "    self.product_edge_ids = [] # массив (индекс товара - индекс ребра)\n",
        "    self.edge_in = {}\n",
        "    self.edge_out = {}"
      ],
      "metadata": {
        "id": "-hk78vZAKGA1"
      },
      "execution_count": null,
      "outputs": []
    },
    {
      "cell_type": "code",
      "source": [
        "def solve_optim_MCF(vehicle_capacity, folder):\n",
        "  start_time = time.time()\n",
        "  data = Data(vehicle_capacity, folder)\n",
        "\n",
        "  optim_solver_data = OptimSolverData()\n",
        "  optim_solver_data.edge_in = {office: set() for office in data.offices_ids}\n",
        "  optim_solver_data.edge_out = {office: set() for office in data.offices_ids}\n",
        "  for edge in data.edges:\n",
        "    for product in data.products_ids:\n",
        "      optim_solver_data.product_edge_ids.append((edge, product))\n",
        "    for office in data.offices_ids:\n",
        "      optim_solver_data.edge_out[edge[0]].add(edge)\n",
        "      optim_solver_data.edge_in[edge[1]].add(edge)\n",
        "\n",
        "  flow, v_count , obj_val = ground_truth_solve_min_cost_flow(data, optim_solver_data)\n",
        "  sol_time = time.time() - start_time\n",
        "  print('Result: '+str(obj_val)+'\\n')\n",
        "  print('Solution time: '+str(sol_time)+'\\n')\n"
      ],
      "metadata": {
        "id": "yViPolAHLOs1"
      },
      "execution_count": null,
      "outputs": []
    },
    {
      "cell_type": "code",
      "source": [
        "def ground_truth_solve_min_cost_flow(data, solver_data):\n",
        "\n",
        "  model = gp.Model('MinCostFlow')\n",
        "\n",
        "  # Переменные\n",
        "  x = model.addVars(solver_data.product_edge_ids, name='flow', vtype = GRB.CONTINUOUS)\n",
        "  y = model.addVars(data.edges, name='vehicles count', lb=0, vtype = GRB.INTEGER)\n",
        "\n",
        "  # Целевая функция\n",
        "  model.setObjective(\n",
        "      gp.quicksum(data.edges_price[e]*y[e] for e in data.edges) + gp.quicksum(data.offices[office][0] * gp.quicksum(x[x_i_p] for x_i_p in solver_data.product_edge_ids if data.products[x_i_p[1]][0] != office and data.products[x_i_p[1]][1]!= office and x_i_p[0] in solver_data.edge_in[office]) for office in data.offices_ids),\n",
        "        GRB.MINIMIZE\n",
        "    )\n",
        "\n",
        "  # Ограничения\n",
        "\n",
        "  for product in data.products_ids:\n",
        "    for office in data.offices_ids:\n",
        "      if (office == data.products[product][0]):\n",
        "        model.addConstr(gp.quicksum(x[(edge, product)] for edge in solver_data.edge_out[office]) - gp.quicksum(x[(edge, product)] for edge in solver_data.edge_in[office]) == data.products[product][2])\n",
        "      elif (office == data.products[product][1]):\n",
        "        model.addConstr(gp.quicksum(x[(edge, product)] for edge in solver_data.edge_out[office]) - gp.quicksum(x[(edge, product)] for edge in solver_data.edge_in[office]) == -data.products[product][2])\n",
        "      else:\n",
        "        model.addConstr(gp.quicksum(x[(edge, product)] for edge in solver_data.edge_out[office]) - gp.quicksum(x[(edge, product)] for edge in solver_data.edge_in[office]) == 0)\n",
        "\n",
        "\n",
        "  for edge in data.edges:\n",
        "    model.addConstr(gp.quicksum(x[(edge, product)] for product in data.products_ids) <= data.vehicle_capacity*y[edge])\n",
        "\n",
        "  for office in data.offices_ids:\n",
        "    model.addConstr(gp.quicksum(x[x_i_p] for x_i_p in solver_data.product_edge_ids if data.products[x_i_p[1]][0] != office and data.products[x_i_p[1]][1]!= office and x_i_p[0] in solver_data.edge_in[office])<= data.offices[office][1])\n",
        "\n",
        "  # Решение\n",
        "  model.setParam('OutputFlag', 0)\n",
        "  model.optimize()\n",
        "\n",
        "  if model.status == GRB.OPTIMAL:\n",
        "    flow = {product_edge_id: x[product_edge_id].x for product_edge_id in solver_data.product_edge_ids if x[product_edge_id].x>0}\n",
        "    v_count = {e: y[e].x for e in data.edges}\n",
        "    obj_val = model.objVal\n",
        "    return flow, v_count ,obj_val\n",
        "  else:\n",
        "    return None, None, None"
      ],
      "metadata": {
        "id": "l2zvezcrJNj-"
      },
      "execution_count": null,
      "outputs": []
    },
    {
      "cell_type": "code",
      "source": [
        "solve_optim_MCF(90, '/content/drive/My Drive/Colab Notebooks/MCF/10_nodes/')"
      ],
      "metadata": {
        "id": "u5LwG5F4uEes"
      },
      "execution_count": null,
      "outputs": []
    },
    {
      "cell_type": "code",
      "source": [
        "solve_optim_MCF(90, '/content/drive/My Drive/Colab Notebooks/MCF/20_nodes/')"
      ],
      "metadata": {
        "id": "Bp2FSVPH9-_s"
      },
      "execution_count": null,
      "outputs": []
    },
    {
      "cell_type": "code",
      "source": [
        "solve_optim_MCF(90, '/content/drive/My Drive/Colab Notebooks/MCF/50_nodes/')"
      ],
      "metadata": {
        "id": "05vPq9sS9_X0"
      },
      "execution_count": null,
      "outputs": []
    },
    {
      "cell_type": "code",
      "source": [
        "solve_optim_MCF(90, '/content/drive/My Drive/Colab Notebooks/MCF/140_nodes/')"
      ],
      "metadata": {
        "id": "0abAwGEc9_rI"
      },
      "execution_count": null,
      "outputs": []
    }
  ]
}