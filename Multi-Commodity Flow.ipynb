{
  "nbformat": 4,
  "nbformat_minor": 0,
  "metadata": {
    "colab": {
      "provenance": []
    },
    "kernelspec": {
      "name": "python3",
      "display_name": "Python 3"
    },
    "language_info": {
      "name": "python"
    }
  },
  "cells": [
    {
      "cell_type": "markdown",
      "source": [
        "# Multi-Commodity Flow"
      ],
      "metadata": {
        "id": "9D03gVndFekz"
      }
    },
    {
      "cell_type": "markdown",
      "source": [
        "**Выполнила: Ковалева Варвара**"
      ],
      "metadata": {
        "id": "X7PIgkWV-Gzh"
      }
    },
    {
      "cell_type": "markdown",
      "source": [
        "## Постановка задачи"
      ],
      "metadata": {
        "id": "ytcoa4XVFvdN"
      }
    },
    {
      "cell_type": "markdown",
      "source": [
        "### Дано:\n",
        "- Ориентированный граф $ G = (V, E) $\n",
        "- Множество товаров (commodities) $ K $\n",
        "- Для каждого товара $ k \\in K $: источник $ s_k $, сток $ t_k $, требуемый поток $ d_k $\n",
        "- Для каждого ребра $ e \\in E $: стоимость использования одним ТС $ c_e $, вместимость ТС $ C $\n",
        "- Для каждого узла $ v \\in V $: $ f_v \\in \\mathbb{R}_+ $ — стоимость перегруза единицы груза в узле $ v $, $ W_v \\in \\mathbb{R}_+ $ — максимальное количество перегруза в узле $ v $\n",
        "- Для каждого товара $ k \\in K $: $ \\Pi_k $ — множество всех возможных путей из $ s_k $ в $ t_k $ в графе $ G $\n",
        "\n",
        "---\n",
        "\n",
        "### Переменные:\n",
        "- $ x^k_p \\in \\mathbb{R}_+ $ — поток товара $ k $ по пути $ p \\in \\Pi_k $\n",
        "- $ y_e \\in \\mathbb{Z}_+ $ — количество ТС, используемых на ребре $ e \\in E $\n",
        "\n",
        "---\n",
        "\n",
        "### Целевая функция:\n",
        "$$\n",
        "\\min \\left(\n",
        "\\sum_{e \\in E} c_e \\cdot y_e +\n",
        "\\sum_{k \\in K} \\sum_{p \\in \\Pi_k}  \\sum_{\\substack{v \\in p \\\\ v \\neq s_k \\\\ v \\neq t_k}}  f_v \\cdot x^k_p\n",
        "\\right)\n",
        "$$\n",
        "\n",
        "---\n",
        "\n",
        "### Ограничения:\n",
        "\n",
        "1. **Полный поток для каждого товара:**\n",
        "   $$\n",
        "   \\sum_{p \\in \\Pi_k} x^k_p = d_k \\quad \\forall k \\in K\n",
        "   $$\n",
        "   *Обеспечивает удовлетворение спроса для каждого товара.*\n",
        "\n",
        "2. **Связь между потоком и количеством ТС:**\n",
        "   $$\n",
        "   \\sum_{k \\in K} \\sum_{p \\in \\Pi_k : e \\in p} x^k_p \\leq C \\cdot y_e \\quad \\forall e \\in E, \\quad y_e \\in \\mathbb{Z}_+\n",
        "   $$\n",
        "   *Количество ТС $ y_e $ определяется суммарным потоком на ребре $ e $.*\n",
        "\n",
        "3. **Неотрицательность потоков:**\n",
        "   $$\n",
        "   x^k_p \\geq 0 \\quad \\forall k \\in K, \\, \\forall p \\in \\Pi_k\n",
        "   $$\n",
        "\n",
        "4. **Максимальная перегрузка в узле**\n",
        "   $$\n",
        "   \\sum_{k \\in K} \\sum_{p \\in \\Pi_k}  \\sum_{\\substack{v \\in p \\\\ v \\neq s_k \\\\ v \\neq t_k}} x^k_p \\le W_e \\quad \\forall e \\in E\n",
        "   $$"
      ],
      "metadata": {
        "id": "28DbUl4eFzqv"
      }
    },
    {
      "cell_type": "code",
      "source": [
        "import pandas as pd\n",
        "import numpy as np\n",
        "import networkx as nx\n",
        "import itertools\n",
        "import time\n",
        "\n",
        "! pip install gurobipy -q\n",
        "\n",
        "import gurobipy as gp\n",
        "from gurobipy import GRB"
      ],
      "metadata": {
        "id": "VZd90AvZKR4D"
      },
      "execution_count": 25,
      "outputs": []
    },
    {
      "cell_type": "markdown",
      "source": [
        "## Подход к решению"
      ],
      "metadata": {
        "id": "dAFKY7mUIxXR"
      }
    },
    {
      "cell_type": "markdown",
      "source": [
        "В кратце алгоритм можно разбить на два этапа:\n",
        "1. Поиск результата без учета огрничения по максимальной перегрузке в узле\n",
        "2. Разгрузка перегруженных узлов с помощью итеративного исключения их из графа"
      ],
      "metadata": {
        "id": "_QuT6bqGxKix"
      }
    },
    {
      "cell_type": "markdown",
      "source": [
        "### 1. Расчёт результата без учета максимальной перегрузки в узлах"
      ],
      "metadata": {
        "id": "OLh12_jTxh1A"
      }
    },
    {
      "cell_type": "markdown",
      "source": [
        "После считывания данных и создания графа в виде списка ребер с стоимостями, модифицируем немного это список следующим образом: для каждого ребра добавим стоимости перегруза его концов. Это нужно для того, чтобы учесть стоимость перегруза в поиске крачайших путей.\n",
        "\n",
        "Собственно, следующий шаг и есть поиск k кратчайших путей, где k вычисляется по определнной формуле в зависимости от вместимости транспортного средства и объема товара.\n",
        "\n",
        "Затем с помощью солвера находим решение в путевой постановке задачи с использование найденных k кратчайших путей."
      ],
      "metadata": {
        "id": "W76Y5JFax6Pw"
      }
    },
    {
      "cell_type": "code",
      "source": [
        "class Data: # Общие данные задачи\n",
        "  def __init__(self, vehicle_capacity, folder):\n",
        "    self.offices_ids = []\n",
        "    self.products_ids = []\n",
        "    self.edges = []\n",
        "    self.offices = {}\n",
        "    self.products = {}\n",
        "    self.edges_price = {}\n",
        "    self.vehicle_capacity = vehicle_capacity\n",
        "\n",
        "    df_offices = pd.read_csv(folder+'offices.csv', usecols=['office_id','transfer_price','transfer_max'], dtype={'office_id':int,'transfer_price':float, 'transfer_max':int})\n",
        "    df_reqs = pd.read_csv(folder+'reqs.csv', dtype={'src_office_id':int,'dst_office_id':int,'volume':int})\n",
        "    df_distance_matrix = pd.read_csv(folder+'distance_matrix.csv', usecols =['src','dst','price'], dtype={'src':int,'dst':int, 'price':float})\n",
        "\n",
        "    for(i, row) in df_offices.iterrows():\n",
        "      self.offices_ids.append(row['office_id'])\n",
        "      self.offices[row['office_id']] = (row['transfer_price'], row['transfer_max'])\n",
        "\n",
        "    for(i, row) in df_reqs.iterrows():\n",
        "      self.products_ids.append(i)\n",
        "      self.products[i] = (row['src_office_id'], row['dst_office_id'], row['volume'])\n",
        "\n",
        "    for(i, row) in df_distance_matrix.iterrows():\n",
        "      if(row['src'] != row['dst'] and row['price']>0):\n",
        "        edge = (row['src'], row['dst'])\n",
        "        self.edges.append(edge)\n",
        "        self.edges_price[edge] = row['price']\n"
      ],
      "metadata": {
        "id": "b1-Jx5lvcnSe"
      },
      "execution_count": 26,
      "outputs": []
    },
    {
      "cell_type": "code",
      "source": [
        "class SolverData: # Данные, необходимые для солвера\n",
        "  def __init__(self):\n",
        "    self.product_path_ids = [] # массив (индекс товара - индекс пути)\n",
        "    self.product_path_count = {} # товар - количество путей\n",
        "    self.paths = {} # рассматриваемые пути продуктов\n",
        "    self.flow_lb = []\n",
        "    self.flow_ub = []"
      ],
      "metadata": {
        "id": "275ACEgTkpEc"
      },
      "execution_count": 27,
      "outputs": []
    },
    {
      "cell_type": "code",
      "source": [
        "def count_price_of_edjes(edges_price, offices): # Расчет стоимостей ребер с учетом стоимостей перегруза в вершинах\n",
        "  edges_with_transfer_price = edges_price.copy()\n",
        "  for edge in edges_price:\n",
        "    edges_with_transfer_price[edge] += offices[edge[0]][0]+offices[edge[1]][0]\n",
        "  return edges_with_transfer_price"
      ],
      "metadata": {
        "id": "uCLLHnw0nuFq"
      },
      "execution_count": 28,
      "outputs": []
    },
    {
      "cell_type": "code",
      "source": [
        "def edges_to_nx_graph(edges_price):\n",
        "    G = nx.DiGraph()\n",
        "    for edge, price in edges_price.items():\n",
        "      G.add_edge(edge[0], edge[1], weight = price)\n",
        "    return G"
      ],
      "metadata": {
        "id": "R-hB033ZmdHt"
      },
      "execution_count": 29,
      "outputs": []
    },
    {
      "cell_type": "markdown",
      "source": [
        "Хоть мы и прибавили к каждому ребру стоимость перегрузки в его вершинах, стоит не забывать, что мы не учитываем эту стоимость в source и target вершинах. Поэтому в следующем методе как раз произходит вычитание их стоимостей из смежных с ними ребер."
      ],
      "metadata": {
        "id": "nLjzaoTi3sFP"
      }
    },
    {
      "cell_type": "code",
      "source": [
        "def remove_transfer_price_source_target(edges_with_transfer_price, source, target, offices):\n",
        "  edges_for_product = edges_with_transfer_price.copy()\n",
        "\n",
        "  price_source = offices[source][0]\n",
        "  price_target = offices[target][0]\n",
        "\n",
        "  prices = [price_source, price_source, price_target, price_target]\n",
        "\n",
        "  for v in offices:\n",
        "    edges = [(source, v), (v, source), (target, v), (v, target)]\n",
        "    for i in range(4):\n",
        "      if(edges[i] in edges_for_product):\n",
        "        edges_for_product[edges[i]] = edges_for_product[edges[i]] - prices[i]\n",
        "\n",
        "  return edges_for_product"
      ],
      "metadata": {
        "id": "hi7UIBLbuOyH"
      },
      "execution_count": 30,
      "outputs": []
    },
    {
      "cell_type": "code",
      "source": [
        "def calc_product_paths(edges_with_transfer_price, source, target, k, office): # Расчёт k-кратчайших путей для конкретного товара\n",
        "  edges_for_product = remove_transfer_price_source_target(edges_with_transfer_price, source, target, office)\n",
        "\n",
        "  graph = edges_to_nx_graph(edges_for_product)\n",
        "  paths_gen = nx.shortest_simple_paths(graph, source=source, target=target, weight='weight')\n",
        "  paths_list = list(itertools.islice(paths_gen, k))\n",
        "\n",
        "  return paths_list\n"
      ],
      "metadata": {
        "id": "9y5uSfRkeFon"
      },
      "execution_count": 31,
      "outputs": []
    },
    {
      "cell_type": "code",
      "source": [
        "def calc_paths(edges_with_transfer_price, data): # Расчёт кратчайших путей для всех товаров\n",
        "  paths = {}\n",
        "\n",
        "  for product, product_data in data.products.items():\n",
        "    count_of_paths = product_data[2]//(data.vehicle_capacity)+3\n",
        "    paths[product] = calc_product_paths(edges_with_transfer_price, product_data[0], product_data[1], count_of_paths, data.offices)\n",
        "\n",
        "  return paths"
      ],
      "metadata": {
        "id": "FsXFlnauwlGR"
      },
      "execution_count": 32,
      "outputs": []
    },
    {
      "cell_type": "code",
      "source": [
        "def make_solver_data(paths, products): # Формирование данных для солвера\n",
        "  solver_data = SolverData()\n",
        "\n",
        "  for product, product_paths in paths.items():\n",
        "    solver_data.product_path_count[product] = len(product_paths)\n",
        "    for i, path in enumerate(product_paths):\n",
        "      solver_data.product_path_ids.append((product, i))\n",
        "      solver_data.paths[(product, i)] = path\n",
        "\n",
        "  max_ub = -1\n",
        "  for product, product_data in products.items():\n",
        "    max_ub = max(max_ub, product_data[2])\n",
        "  solver_data.flow_lb = [0]*len(solver_data.product_path_ids)\n",
        "  solver_data.flow_ub = [max_ub]*len(solver_data.product_path_ids)\n",
        "\n",
        "  return solver_data"
      ],
      "metadata": {
        "id": "nnqoFvSW1jcK"
      },
      "execution_count": 33,
      "outputs": []
    },
    {
      "cell_type": "code",
      "source": [
        "def solve_min_cost_flow(data, solver_data): # Реализация солвера без учета ограничения на максимальный вес перегрузки\n",
        "\n",
        "  model = gp.Model('MinCostFlow')\n",
        "\n",
        "  # Переменные\n",
        "  x = model.addVars(solver_data.product_path_ids, name='flow', lb=solver_data.flow_lb, ub = solver_data.flow_ub, vtype = GRB.INTEGER)\n",
        "  y = model.addVars(data.edges, name='vehicles count', lb=0, vtype = GRB.INTEGER)\n",
        "\n",
        "  # Целевая функция\n",
        "  model.setObjective(\n",
        "      gp.quicksum(data.edges_price[e]*y[e] for e in data.edges) + gp.quicksum(gp.quicksum(data.offices[v][0]*x[x_i_p] for v in solver_data.paths[x_i_p][1:-1]) for x_i_p in solver_data.product_path_ids),\n",
        "        GRB.MINIMIZE\n",
        "    )\n",
        "\n",
        "  # Ограничения\n",
        "\n",
        "  for product in data.products_ids:\n",
        "    model.addConstr(gp.quicksum(x[(product,p_i)] for p_i in range(solver_data.product_path_count[product])) == data.products[product][2])\n",
        "\n",
        "\n",
        "  edges_paths = {edge: set() for edge in data.edges}\n",
        "  for product_path_ind, path in solver_data.paths.items():\n",
        "    for i in range(len(path)-1):\n",
        "      edges_paths[(path[i], path[i+1])].add(product_path_ind)\n",
        "\n",
        "  for e in data.edges:\n",
        "    model.addConstr(gp.quicksum(x[x_i_p] for x_i_p in edges_paths[e]) <= data.vehicle_capacity*y[e])\n",
        "\n",
        "  # Решение\n",
        "  model.setParam('OutputFlag', 0)\n",
        "  start_time = time.time()\n",
        "  model.optimize()\n",
        "  sol_time = time.time() - start_time\n",
        "\n",
        "  if model.status == GRB.OPTIMAL:\n",
        "    flow = {product_path_id: x[product_path_id].x for product_path_id in solver_data.product_path_ids if x[product_path_id].x>0}\n",
        "    v_count = {e: y[e].x for e in data.edges}\n",
        "    obj_val = model.objVal\n",
        "    return flow, v_count ,obj_val\n",
        "  else:\n",
        "    return None, None, None"
      ],
      "metadata": {
        "id": "3naIar5Q7HW2"
      },
      "execution_count": 34,
      "outputs": []
    },
    {
      "cell_type": "markdown",
      "source": [
        "## 2. Разгрузка перегруженых узлов"
      ],
      "metadata": {
        "id": "hJ9qQ11R4pRJ"
      }
    },
    {
      "cell_type": "markdown",
      "source": [
        "На данном этапе происходит процесс разгрузки перегруженных узлов.\n",
        "\n",
        "Первым делом находим перегруженные узлы, а также пути, которые через эти узлы проходят. Затем сортируем эти пути по убыванию веса. Берем самый большой результат и находим маскимальный вес данного пути, который неоходим для того, чтобы все загруженные на этом пути узлы пришли в норму по объему перегрузки (объема этого пути может не хватить, тогда убираем этот путь вовсе). Продолжаем с следющем по величине пути пока все узлы не разгрузятся. Таким образом, мы получили множество товаров, некторые пути которых были исключены из расчета и их необходимо перераспределить.\n",
        "\n",
        "Далее уже на графе, из которого убрали перегруженные ребра, находим k-кратчайших путей для этих исключенных товаров. Для всех остальных товаров и путей, не создающих перегруза вершин, оставляем найденный на прошлом этапе решение. Грубо говоря, на данном этапе мы перестраиваем некторые пути так, чтобы избавится от перегруза, созданных в узлах.\n",
        "\n",
        "Однако данный процесс не исключает того, что у нас могут появится новые перегруженные узлы. Для этого мы снова повторяем данную процедуру на графе с уже исключенными ранее вершинами.\n",
        "\n",
        "В любом случае, если граммотно заданы условия задачи, мы придем к ситуации, когда будет исключенно достаточно вершин и ни одна из оставшихся вершин не будет перегруженна."
      ],
      "metadata": {
        "id": "LzHhCG574xda"
      }
    },
    {
      "cell_type": "code",
      "source": [
        "class OverloadData: # Данные, расчитываемые при перегрузке вершин\n",
        "  def __init__(self):\n",
        "    self.flow = {}\n",
        "    self.overload_office = set()\n",
        "    self.overload_product = set()\n",
        "    self.overload_paths = set()"
      ],
      "metadata": {
        "id": "YQ9iMBAmIrAW"
      },
      "execution_count": 35,
      "outputs": []
    },
    {
      "cell_type": "code",
      "source": [
        "def calc_overloads(data, solver_data, flow): #Расчитать необходимые данные для процесса разгрузки\n",
        "  overloads = OverloadData()\n",
        "\n",
        "  overload_office_weight = {office: 0 for office in data.offices_ids}\n",
        "  path_offices = {product_path_id: set() for product_path_id in solver_data.product_path_ids}\n",
        "  office_paths = {office: set() for office in data.offices_ids}\n",
        "  overloads.flow = flow.copy()\n",
        "\n",
        "  for product_path_id, weight in flow.items():\n",
        "    for office in solver_data.paths[product_path_id][1:-1]:\n",
        "      overload_office_weight[office] += weight\n",
        "      office_paths[office].add(product_path_id)\n",
        "\n",
        "  for office, weight in overload_office_weight.items():\n",
        "    if weight > data.offices[office][1]:\n",
        "      overloads.overload_office.add(office)\n",
        "      overloads.overload_paths.update(office_paths[office])\n",
        "\n",
        "  sorted_paths = sorted(overloads.overload_paths, key=lambda x: flow[x], reverse=True)\n",
        "\n",
        "  over_office = overloads.overload_office.copy()\n",
        "  while len(over_office)>0:\n",
        "    path_to_delete = sorted_paths[0]\n",
        "    sorted_paths.pop(0)\n",
        "    max_weight = 0;\n",
        "    for office in solver_data.paths[path_to_delete][1:-1]:\n",
        "      max_weight = max(max_weight, min(overload_office_weight[office]-data.offices[office][1],flow[path_to_delete]))\n",
        "    for office in solver_data.paths[path_to_delete][1:-1]:\n",
        "      overload_office_weight[office] -= max_weight\n",
        "      if (office in over_office and overload_office_weight[office] <= data.offices[office][1]):\n",
        "        over_office.remove(office)\n",
        "    if(overloads.flow[path_to_delete]<=max_weight):\n",
        "      overloads.flow.pop(path_to_delete)\n",
        "    else:\n",
        "      overloads.flow[path_to_delete] -= max_weight\n",
        "    overloads.overload_product.add(path_to_delete[0])\n",
        "\n",
        "  return overloads\n"
      ],
      "metadata": {
        "id": "lBsaI5kKJ-4t"
      },
      "execution_count": 36,
      "outputs": []
    },
    {
      "cell_type": "code",
      "source": [
        "def find_edges_with_overload_offices(edges_with_transfer_price, data, overload_offices): # Найти ребра, которые необходимо исключить в связи с исключением вершины графа\n",
        "  edges_without_overload = edges_with_transfer_price.copy()\n",
        "  edges_with_overload_offices = set()\n",
        "  for edge in edges_with_transfer_price:\n",
        "    if edge[0] in overload_offices or edge[1] in overload_offices:\n",
        "      edges_without_overload.pop(edge)\n",
        "      edges_with_overload_offices.add((edge, data.edges_price[edge]))\n",
        "\n",
        "  return edges_without_overload, edges_with_overload_offices"
      ],
      "metadata": {
        "id": "eIv2B8jJeb4P"
      },
      "execution_count": 37,
      "outputs": []
    },
    {
      "cell_type": "code",
      "source": [
        "def restore_overlaod_offices(edges_without_overload, edges_with_overload_offices, source, target, overload_offices, data): # Восстановить часть ребер, связанных с sorce И target товара\n",
        "  edges_for_product = edges_without_overload.copy()\n",
        "  for (edge, price) in edges_with_overload_offices:\n",
        "    price = data.edges_price[edge]\n",
        "    if ((edge[0] == source or edge[0] == target) and (edge[1] == source or edge[1] == target)):\n",
        "      edges_for_product[edge] = price\n",
        "    elif(edge[0] == source and edge[0] == target and edge[1] not in overload_offices):\n",
        "      edges_for_product[edge] = price\n",
        "    elif(edge[1] == source and edge[1] == target and edge[0] not in overload_offices):\n",
        "      edges_for_product[edge] = price\n",
        "\n",
        "  return edges_for_product"
      ],
      "metadata": {
        "id": "f7VEndPXguFI"
      },
      "execution_count": 38,
      "outputs": []
    },
    {
      "cell_type": "code",
      "source": [
        "def calc_paths_overload(overloads, edges_with_transfer_price, data, solver_data): # Расчет путей при разргрузке\n",
        "  paths = {product : [] for product in data.products_ids}\n",
        "\n",
        "  edges_without_overload, edges_with_overload_offices = find_edges_with_overload_offices(edges_with_transfer_price, data, overloads.overload_office)\n",
        "  for product in overloads.overload_product:\n",
        "    product_data = data.products[product]\n",
        "    count_of_paths = product_data[2]//(data.vehicle_capacity//3)+3\n",
        "    edges_for_product = restore_overlaod_offices(edges_without_overload, edges_with_overload_offices, product_data[0], product_data[1], overloads.overload_office, data)\n",
        "    paths[product] = calc_product_paths(edges_for_product, product_data[0], product_data[1], count_of_paths, data.offices)\n",
        "\n",
        "  for (product, path_id) in overloads.flow :\n",
        "    if(not(product in overloads.overload_product and (product, path_id) not in overloads.overload_paths)):\n",
        "      paths[product].append(solver_data.paths[(product, path_id)])\n",
        "\n",
        "  return paths"
      ],
      "metadata": {
        "id": "Wc0MGoCSbIuU"
      },
      "execution_count": 39,
      "outputs": []
    },
    {
      "cell_type": "code",
      "source": [
        "def get_string_from_path(path): # Вспомогательны метод для красивово вывода в файл\n",
        "  string = '('\n",
        "  for i in range(len(path)-1):\n",
        "    string += str(int(path[i]))+', '\n",
        "  string += str(int(path[-1]))+')'\n",
        "  return string"
      ],
      "metadata": {
        "id": "paCdu5Oys5Lv"
      },
      "execution_count": 40,
      "outputs": []
    },
    {
      "cell_type": "code",
      "source": [
        "def write_result_into_file(file, flow, v_count , obj_val, sol_time, solver_data): # Запись результата в файл\n",
        "  with open(file, 'w') as f:\n",
        "    f.write('product, path, volume\\n')\n",
        "    for product_path_id, weight in flow.items():\n",
        "      f.write(str(product_path_id[0])+', '+get_string_from_path(solver_data.paths[product_path_id])+', '+str(weight)+'\\n')\n",
        "    f.write('\\nedge, vehicle_count\\n')\n",
        "    for edge, count in v_count.items():\n",
        "      if(count>0):\n",
        "        f.write('('+str(int(edge[0]))+', '+str(int(edge[1]))+'), '+str(count)+'\\n')\n",
        "    f.write('\\nResult: '+str(obj_val)+'\\n')\n",
        "    f.write('\\nSolution time: '+str(sol_time)+'\\n')"
      ],
      "metadata": {
        "id": "T8a8xi6Zoinm"
      },
      "execution_count": 41,
      "outputs": []
    },
    {
      "cell_type": "markdown",
      "source": [
        "Следующий метод и реализует весь процесс решения задачи"
      ],
      "metadata": {
        "id": "kyW4WOXq9Yj9"
      }
    },
    {
      "cell_type": "code",
      "source": [
        "def solve_MCF(vehicle_capacity, folder, output_file):\n",
        "  start_time = time.time()\n",
        "  data = Data(vehicle_capacity,folder)\n",
        "  edges_with_transfer_price = count_price_of_edjes(data.edges_price, data.offices)\n",
        "  paths = calc_paths(edges_with_transfer_price, data)\n",
        "  solver_data = make_solver_data(paths, data.products)\n",
        "\n",
        "  step=1;\n",
        "  while (True):\n",
        "    flow, v_count, obj_val = solve_min_cost_flow(data, solver_data)\n",
        "\n",
        "    if(flow == None):\n",
        "      print (\"Грустная история(\")\n",
        "      break\n",
        "\n",
        "    print (step,\". \", obj_val)\n",
        "    step+=1\n",
        "\n",
        "    overloads = calc_overloads(data, solver_data, flow)\n",
        "    if (len(overloads.overload_office) == 0):\n",
        "      break\n",
        "    paths = calc_paths_overload(overloads, edges_with_transfer_price, data, solver_data)\n",
        "    solver_data = make_solver_data(paths, data.products)\n",
        "    for i, product_path_id in enumerate(solver_data.product_path_ids):\n",
        "      if(product_path_id in overloads.overload_paths and product_path_id in overloads.flow):\n",
        "        solver_data.flow_ub[i] = overloads.flow[product_path_id]\n",
        "        solver_data.flow_lb[i] = overloads.flow[product_path_id]\n",
        "  sol_time = time.time() - start_time\n",
        "  if(flow != None):\n",
        "    write_result_into_file(output_file, flow, v_count , obj_val, sol_time, solver_data)\n",
        "    print('Result: '+str(obj_val)+'\\n')\n",
        "    print('Solution time: '+str(sol_time)+'\\n')\n"
      ],
      "metadata": {
        "id": "iWZrsWnyHh2p"
      },
      "execution_count": 42,
      "outputs": []
    },
    {
      "cell_type": "markdown",
      "source": [
        "## Результаты"
      ],
      "metadata": {
        "id": "SUoh-1249euA"
      }
    },
    {
      "cell_type": "code",
      "source": [
        "from google.colab import drive\n",
        "drive.mount('/content/drive')"
      ],
      "metadata": {
        "colab": {
          "base_uri": "https://localhost:8080/"
        },
        "id": "F3mVcXmXwn13",
        "outputId": "e5c4a425-eb37-4ff9-a883-78e8c182bacd"
      },
      "execution_count": 43,
      "outputs": [
        {
          "output_type": "stream",
          "name": "stdout",
          "text": [
            "Drive already mounted at /content/drive; to attempt to forcibly remount, call drive.mount(\"/content/drive\", force_remount=True).\n"
          ]
        }
      ]
    },
    {
      "cell_type": "code",
      "source": [
        "solve_MCF(90, '/content/drive/My Drive/Colab Notebooks/MCF/10_nodes/', '10_nodes.txt')"
      ],
      "metadata": {
        "colab": {
          "base_uri": "https://localhost:8080/"
        },
        "id": "5Yl8_UHzsF2x",
        "outputId": "2d79fdc3-e927-4e59-edd0-0041b04dda93"
      },
      "execution_count": 44,
      "outputs": [
        {
          "output_type": "stream",
          "name": "stdout",
          "text": [
            "1 .  1060958962.6899999\n",
            "2 .  1760538002.9975998\n",
            "3 .  1997429082.1576\n",
            "4 .  1640894604.7452002\n",
            "5 .  1856440028.7975998\n",
            "6 .  1689706846.5976\n",
            "7 .  1601942765.9975998\n",
            "8 .  1800889275.8968\n",
            "9 .  1674410063.1452\n",
            "10 .  1866934815.1976\n",
            "Result: 1866934815.1976\n",
            "\n",
            "Solution time: 0.3382556438446045\n",
            "\n"
          ]
        }
      ]
    },
    {
      "cell_type": "markdown",
      "source": [
        "С дата-сетов в 20 вершин почему-то не отрабатвыает даже часть без ограничения на максимальную перегрузку"
      ],
      "metadata": {
        "id": "5Rio-6i5Uzv4"
      }
    },
    {
      "cell_type": "code",
      "source": [
        "solve_MCF(90, '/content/drive/My Drive/Colab Notebooks/MCF/20_nodes/', '20_nodes.txt')"
      ],
      "metadata": {
        "colab": {
          "base_uri": "https://localhost:8080/"
        },
        "id": "HxFRkThd9ks-",
        "outputId": "e5090bb1-6a3d-4137-bbe4-413cdd571d2c"
      },
      "execution_count": 45,
      "outputs": [
        {
          "output_type": "stream",
          "name": "stdout",
          "text": [
            "Грустная история(\n"
          ]
        }
      ]
    },
    {
      "cell_type": "markdown",
      "source": [
        "А при попытке протестировать датасет с 50 и 140 вершинами столкнулась с ограничениями лиценции солвера ☹"
      ],
      "metadata": {
        "id": "3rza2F4-UwZG"
      }
    },
    {
      "cell_type": "code",
      "source": [
        "solve_MCF(90, '/content/drive/My Drive/Colab Notebooks/MCF/50_nodes/', '50_nodes.txt')"
      ],
      "metadata": {
        "id": "uOK5Iwbd9lI6",
        "colab": {
          "base_uri": "https://localhost:8080/",
          "height": 321
        },
        "outputId": "492cfb3f-4bf6-4549-a572-dc98fbd62aaf"
      },
      "execution_count": 46,
      "outputs": [
        {
          "output_type": "error",
          "ename": "GurobiError",
          "evalue": "Model too large for size-limited license; visit https://gurobi.com/unrestricted for more information",
          "traceback": [
            "\u001b[0;31m---------------------------------------------------------------------------\u001b[0m",
            "\u001b[0;31mGurobiError\u001b[0m                               Traceback (most recent call last)",
            "\u001b[0;32m/tmp/ipython-input-3126570299.py\u001b[0m in \u001b[0;36m<cell line: 0>\u001b[0;34m()\u001b[0m\n\u001b[0;32m----> 1\u001b[0;31m \u001b[0msolve_MCF\u001b[0m\u001b[0;34m(\u001b[0m\u001b[0;36m90\u001b[0m\u001b[0;34m,\u001b[0m \u001b[0;34m'/content/drive/My Drive/Colab Notebooks/MCF/50_nodes/'\u001b[0m\u001b[0;34m,\u001b[0m \u001b[0;34m'50_nodes.txt'\u001b[0m\u001b[0;34m)\u001b[0m\u001b[0;34m\u001b[0m\u001b[0;34m\u001b[0m\u001b[0m\n\u001b[0m",
            "\u001b[0;32m/tmp/ipython-input-2265416321.py\u001b[0m in \u001b[0;36msolve_MCF\u001b[0;34m(vehicle_capacity, folder, output_file)\u001b[0m\n\u001b[1;32m      8\u001b[0m   \u001b[0mstep\u001b[0m\u001b[0;34m=\u001b[0m\u001b[0;36m1\u001b[0m\u001b[0;34m;\u001b[0m\u001b[0;34m\u001b[0m\u001b[0;34m\u001b[0m\u001b[0m\n\u001b[1;32m      9\u001b[0m   \u001b[0;32mwhile\u001b[0m \u001b[0;34m(\u001b[0m\u001b[0;32mTrue\u001b[0m\u001b[0;34m)\u001b[0m\u001b[0;34m:\u001b[0m\u001b[0;34m\u001b[0m\u001b[0;34m\u001b[0m\u001b[0m\n\u001b[0;32m---> 10\u001b[0;31m     \u001b[0mflow\u001b[0m\u001b[0;34m,\u001b[0m \u001b[0mv_count\u001b[0m\u001b[0;34m,\u001b[0m \u001b[0mobj_val\u001b[0m \u001b[0;34m=\u001b[0m \u001b[0msolve_min_cost_flow\u001b[0m\u001b[0;34m(\u001b[0m\u001b[0mdata\u001b[0m\u001b[0;34m,\u001b[0m \u001b[0msolver_data\u001b[0m\u001b[0;34m)\u001b[0m\u001b[0;34m\u001b[0m\u001b[0;34m\u001b[0m\u001b[0m\n\u001b[0m\u001b[1;32m     11\u001b[0m \u001b[0;34m\u001b[0m\u001b[0m\n\u001b[1;32m     12\u001b[0m     \u001b[0;32mif\u001b[0m\u001b[0;34m(\u001b[0m\u001b[0mflow\u001b[0m \u001b[0;34m==\u001b[0m \u001b[0;32mNone\u001b[0m\u001b[0;34m)\u001b[0m\u001b[0;34m:\u001b[0m\u001b[0;34m\u001b[0m\u001b[0;34m\u001b[0m\u001b[0m\n",
            "\u001b[0;32m/tmp/ipython-input-1701458425.py\u001b[0m in \u001b[0;36msolve_min_cost_flow\u001b[0;34m(data, solver_data)\u001b[0m\n\u001b[1;32m     30\u001b[0m   \u001b[0mmodel\u001b[0m\u001b[0;34m.\u001b[0m\u001b[0msetParam\u001b[0m\u001b[0;34m(\u001b[0m\u001b[0;34m'OutputFlag'\u001b[0m\u001b[0;34m,\u001b[0m \u001b[0;36m0\u001b[0m\u001b[0;34m)\u001b[0m\u001b[0;34m\u001b[0m\u001b[0;34m\u001b[0m\u001b[0m\n\u001b[1;32m     31\u001b[0m   \u001b[0mstart_time\u001b[0m \u001b[0;34m=\u001b[0m \u001b[0mtime\u001b[0m\u001b[0;34m.\u001b[0m\u001b[0mtime\u001b[0m\u001b[0;34m(\u001b[0m\u001b[0;34m)\u001b[0m\u001b[0;34m\u001b[0m\u001b[0;34m\u001b[0m\u001b[0m\n\u001b[0;32m---> 32\u001b[0;31m   \u001b[0mmodel\u001b[0m\u001b[0;34m.\u001b[0m\u001b[0moptimize\u001b[0m\u001b[0;34m(\u001b[0m\u001b[0;34m)\u001b[0m\u001b[0;34m\u001b[0m\u001b[0;34m\u001b[0m\u001b[0m\n\u001b[0m\u001b[1;32m     33\u001b[0m   \u001b[0msol_time\u001b[0m \u001b[0;34m=\u001b[0m \u001b[0mtime\u001b[0m\u001b[0;34m.\u001b[0m\u001b[0mtime\u001b[0m\u001b[0;34m(\u001b[0m\u001b[0;34m)\u001b[0m \u001b[0;34m-\u001b[0m \u001b[0mstart_time\u001b[0m\u001b[0;34m\u001b[0m\u001b[0;34m\u001b[0m\u001b[0m\n\u001b[1;32m     34\u001b[0m \u001b[0;34m\u001b[0m\u001b[0m\n",
            "\u001b[0;32msrc/gurobipy/_model.pyx\u001b[0m in \u001b[0;36mgurobipy._model.Model.optimize\u001b[0;34m()\u001b[0m\n",
            "\u001b[0;31mGurobiError\u001b[0m: Model too large for size-limited license; visit https://gurobi.com/unrestricted for more information"
          ]
        }
      ]
    },
    {
      "cell_type": "code",
      "source": [
        "solve_MCF(90, '/content/drive/My Drive/Colab Notebooks/MCF/140_nodes/', '140_nodes.txt')"
      ],
      "metadata": {
        "id": "ksVAHzee9lgi"
      },
      "execution_count": null,
      "outputs": []
    },
    {
      "cell_type": "markdown",
      "source": [
        "## Точное решение"
      ],
      "metadata": {
        "id": "cWj-dzYS9sgt"
      }
    },
    {
      "cell_type": "markdown",
      "source": [
        "Здесь я добавила решение задачи точным образом с помощью потоковой постановки задачи"
      ],
      "metadata": {
        "id": "RMBWxmrE9yzX"
      }
    },
    {
      "cell_type": "code",
      "source": [
        "class OptimSolverData:\n",
        "  def __init__(self):\n",
        "    self.product_edge_ids = [] # массив (индекс товара - индекс ребра)\n",
        "    self.edge_in = {}\n",
        "    self.edge_out = {}"
      ],
      "metadata": {
        "id": "-hk78vZAKGA1"
      },
      "execution_count": 47,
      "outputs": []
    },
    {
      "cell_type": "code",
      "source": [
        "def solve_optim_MCF(vehicle_capacity, folder):\n",
        "  start_time = time.time()\n",
        "  data = Data(vehicle_capacity, folder)\n",
        "\n",
        "  optim_solver_data = OptimSolverData()\n",
        "  optim_solver_data.edge_in = {office: set() for office in data.offices_ids}\n",
        "  optim_solver_data.edge_out = {office: set() for office in data.offices_ids}\n",
        "  for edge in data.edges:\n",
        "    for product in data.products_ids:\n",
        "      optim_solver_data.product_edge_ids.append((edge, product))\n",
        "    for office in data.offices_ids:\n",
        "      optim_solver_data.edge_out[edge[0]].add(edge)\n",
        "      optim_solver_data.edge_in[edge[1]].add(edge)\n",
        "\n",
        "  flow, v_count , obj_val = ground_truth_solve_min_cost_flow(data, optim_solver_data)\n",
        "  sol_time = time.time() - start_time\n",
        "  print('Result: '+str(obj_val)+'\\n')\n",
        "  print('Solution time: '+str(sol_time)+'\\n')\n"
      ],
      "metadata": {
        "id": "yViPolAHLOs1"
      },
      "execution_count": 48,
      "outputs": []
    },
    {
      "cell_type": "code",
      "source": [
        "def ground_truth_solve_min_cost_flow(data, solver_data):\n",
        "\n",
        "  model = gp.Model('MinCostFlow')\n",
        "\n",
        "  # Переменные\n",
        "  x = model.addVars(solver_data.product_edge_ids, name='flow', vtype = GRB.INTEGER)\n",
        "  y = model.addVars(data.edges, name='vehicles count', lb=0, vtype = GRB.INTEGER)\n",
        "\n",
        "  # Целевая функция\n",
        "  model.setObjective(\n",
        "      gp.quicksum(data.edges_price[e]*y[e] for e in data.edges) + gp.quicksum(data.offices[office][0] * gp.quicksum(x[x_i_p] for x_i_p in solver_data.product_edge_ids if data.products[x_i_p[1]][0] != office and data.products[x_i_p[1]][1]!= office and x_i_p[0] in solver_data.edge_in[office]) for office in data.offices_ids),\n",
        "        GRB.MINIMIZE\n",
        "    )\n",
        "\n",
        "  # Ограничения\n",
        "\n",
        "  for product in data.products_ids:\n",
        "    for office in data.offices_ids:\n",
        "      if (office == data.products[product][0]):\n",
        "        model.addConstr(gp.quicksum(x[(edge, product)] for edge in solver_data.edge_out[office]) - gp.quicksum(x[(edge, product)] for edge in solver_data.edge_in[office]) == data.products[product][2])\n",
        "      elif (office == data.products[product][1]):\n",
        "        model.addConstr(gp.quicksum(x[(edge, product)] for edge in solver_data.edge_out[office]) - gp.quicksum(x[(edge, product)] for edge in solver_data.edge_in[office]) == -data.products[product][2])\n",
        "      else:\n",
        "        model.addConstr(gp.quicksum(x[(edge, product)] for edge in solver_data.edge_out[office]) - gp.quicksum(x[(edge, product)] for edge in solver_data.edge_in[office]) == 0)\n",
        "\n",
        "\n",
        "  for edge in data.edges:\n",
        "    model.addConstr(gp.quicksum(x[(edge, product)] for product in data.products_ids) <= data.vehicle_capacity*y[edge])\n",
        "\n",
        "  for office in data.offices_ids:\n",
        "    model.addConstr(gp.quicksum(x[x_i_p] for x_i_p in solver_data.product_edge_ids if data.products[x_i_p[1]][0] != office and data.products[x_i_p[1]][1]!= office and x_i_p[0] in solver_data.edge_in[office])<= data.offices[office][1])\n",
        "\n",
        "  # Решение\n",
        "  model.setParam('OutputFlag', 0)\n",
        "  model.optimize()\n",
        "\n",
        "  if model.status == GRB.OPTIMAL:\n",
        "    flow = {product_edge_id: x[product_edge_id].x for product_edge_id in solver_data.product_edge_ids if x[product_edge_id].x>0}\n",
        "    v_count = {e: y[e].x for e in data.edges}\n",
        "    obj_val = model.objVal\n",
        "    return flow, v_count ,obj_val\n",
        "  else:\n",
        "    return None, None, None"
      ],
      "metadata": {
        "id": "l2zvezcrJNj-"
      },
      "execution_count": 49,
      "outputs": []
    },
    {
      "cell_type": "code",
      "source": [
        "solve_optim_MCF(90, '/content/drive/My Drive/Colab Notebooks/MCF/10_nodes/')"
      ],
      "metadata": {
        "id": "u5LwG5F4uEes",
        "colab": {
          "base_uri": "https://localhost:8080/"
        },
        "outputId": "4c1e3696-6518-4c25-b81a-7bc3bb6cb2fb"
      },
      "execution_count": 50,
      "outputs": [
        {
          "output_type": "stream",
          "name": "stdout",
          "text": [
            "Result: 1105792110.5968\n",
            "\n",
            "Solution time: 19.771950244903564\n",
            "\n"
          ]
        }
      ]
    },
    {
      "cell_type": "code",
      "source": [
        "solve_optim_MCF(90, '/content/drive/My Drive/Colab Notebooks/MCF/20_nodes/')"
      ],
      "metadata": {
        "id": "Bp2FSVPH9-_s",
        "colab": {
          "base_uri": "https://localhost:8080/",
          "height": 321
        },
        "outputId": "355c3894-6c21-4e1f-89e9-54c2ef7191c1"
      },
      "execution_count": 51,
      "outputs": [
        {
          "output_type": "error",
          "ename": "GurobiError",
          "evalue": "Model too large for size-limited license; visit https://gurobi.com/unrestricted for more information",
          "traceback": [
            "\u001b[0;31m---------------------------------------------------------------------------\u001b[0m",
            "\u001b[0;31mGurobiError\u001b[0m                               Traceback (most recent call last)",
            "\u001b[0;32m/tmp/ipython-input-534030228.py\u001b[0m in \u001b[0;36m<cell line: 0>\u001b[0;34m()\u001b[0m\n\u001b[0;32m----> 1\u001b[0;31m \u001b[0msolve_optim_MCF\u001b[0m\u001b[0;34m(\u001b[0m\u001b[0;36m90\u001b[0m\u001b[0;34m,\u001b[0m \u001b[0;34m'/content/drive/My Drive/Colab Notebooks/MCF/20_nodes/'\u001b[0m\u001b[0;34m)\u001b[0m\u001b[0;34m\u001b[0m\u001b[0;34m\u001b[0m\u001b[0m\n\u001b[0m",
            "\u001b[0;32m/tmp/ipython-input-1997263631.py\u001b[0m in \u001b[0;36msolve_optim_MCF\u001b[0;34m(vehicle_capacity, folder)\u001b[0m\n\u001b[1;32m     13\u001b[0m       \u001b[0moptim_solver_data\u001b[0m\u001b[0;34m.\u001b[0m\u001b[0medge_in\u001b[0m\u001b[0;34m[\u001b[0m\u001b[0medge\u001b[0m\u001b[0;34m[\u001b[0m\u001b[0;36m1\u001b[0m\u001b[0;34m]\u001b[0m\u001b[0;34m]\u001b[0m\u001b[0;34m.\u001b[0m\u001b[0madd\u001b[0m\u001b[0;34m(\u001b[0m\u001b[0medge\u001b[0m\u001b[0;34m)\u001b[0m\u001b[0;34m\u001b[0m\u001b[0;34m\u001b[0m\u001b[0m\n\u001b[1;32m     14\u001b[0m \u001b[0;34m\u001b[0m\u001b[0m\n\u001b[0;32m---> 15\u001b[0;31m   \u001b[0mflow\u001b[0m\u001b[0;34m,\u001b[0m \u001b[0mv_count\u001b[0m \u001b[0;34m,\u001b[0m \u001b[0mobj_val\u001b[0m \u001b[0;34m=\u001b[0m \u001b[0mground_truth_solve_min_cost_flow\u001b[0m\u001b[0;34m(\u001b[0m\u001b[0mdata\u001b[0m\u001b[0;34m,\u001b[0m \u001b[0moptim_solver_data\u001b[0m\u001b[0;34m)\u001b[0m\u001b[0;34m\u001b[0m\u001b[0;34m\u001b[0m\u001b[0m\n\u001b[0m\u001b[1;32m     16\u001b[0m   \u001b[0msol_time\u001b[0m \u001b[0;34m=\u001b[0m \u001b[0mtime\u001b[0m\u001b[0;34m.\u001b[0m\u001b[0mtime\u001b[0m\u001b[0;34m(\u001b[0m\u001b[0;34m)\u001b[0m \u001b[0;34m-\u001b[0m \u001b[0mstart_time\u001b[0m\u001b[0;34m\u001b[0m\u001b[0;34m\u001b[0m\u001b[0m\n\u001b[1;32m     17\u001b[0m   \u001b[0mprint\u001b[0m\u001b[0;34m(\u001b[0m\u001b[0;34m'Result: '\u001b[0m\u001b[0;34m+\u001b[0m\u001b[0mstr\u001b[0m\u001b[0;34m(\u001b[0m\u001b[0mobj_val\u001b[0m\u001b[0;34m)\u001b[0m\u001b[0;34m+\u001b[0m\u001b[0;34m'\\n'\u001b[0m\u001b[0;34m)\u001b[0m\u001b[0;34m\u001b[0m\u001b[0;34m\u001b[0m\u001b[0m\n",
            "\u001b[0;32m/tmp/ipython-input-1175022078.py\u001b[0m in \u001b[0;36mground_truth_solve_min_cost_flow\u001b[0;34m(data, solver_data)\u001b[0m\n\u001b[1;32m     33\u001b[0m   \u001b[0;31m# Решение\u001b[0m\u001b[0;34m\u001b[0m\u001b[0;34m\u001b[0m\u001b[0m\n\u001b[1;32m     34\u001b[0m   \u001b[0mmodel\u001b[0m\u001b[0;34m.\u001b[0m\u001b[0msetParam\u001b[0m\u001b[0;34m(\u001b[0m\u001b[0;34m'OutputFlag'\u001b[0m\u001b[0;34m,\u001b[0m \u001b[0;36m0\u001b[0m\u001b[0;34m)\u001b[0m\u001b[0;34m\u001b[0m\u001b[0;34m\u001b[0m\u001b[0m\n\u001b[0;32m---> 35\u001b[0;31m   \u001b[0mmodel\u001b[0m\u001b[0;34m.\u001b[0m\u001b[0moptimize\u001b[0m\u001b[0;34m(\u001b[0m\u001b[0;34m)\u001b[0m\u001b[0;34m\u001b[0m\u001b[0;34m\u001b[0m\u001b[0m\n\u001b[0m\u001b[1;32m     36\u001b[0m \u001b[0;34m\u001b[0m\u001b[0m\n\u001b[1;32m     37\u001b[0m   \u001b[0;32mif\u001b[0m \u001b[0mmodel\u001b[0m\u001b[0;34m.\u001b[0m\u001b[0mstatus\u001b[0m \u001b[0;34m==\u001b[0m \u001b[0mGRB\u001b[0m\u001b[0;34m.\u001b[0m\u001b[0mOPTIMAL\u001b[0m\u001b[0;34m:\u001b[0m\u001b[0;34m\u001b[0m\u001b[0;34m\u001b[0m\u001b[0m\n",
            "\u001b[0;32msrc/gurobipy/_model.pyx\u001b[0m in \u001b[0;36mgurobipy._model.Model.optimize\u001b[0;34m()\u001b[0m\n",
            "\u001b[0;31mGurobiError\u001b[0m: Model too large for size-limited license; visit https://gurobi.com/unrestricted for more information"
          ]
        }
      ]
    },
    {
      "cell_type": "code",
      "source": [
        "solve_optim_MCF(90, '/content/drive/My Drive/Colab Notebooks/MCF/50_nodes/')"
      ],
      "metadata": {
        "id": "05vPq9sS9_X0"
      },
      "execution_count": null,
      "outputs": []
    },
    {
      "cell_type": "code",
      "source": [
        "solve_optim_MCF(90, '/content/drive/My Drive/Colab Notebooks/MCF/140_nodes/')"
      ],
      "metadata": {
        "id": "0abAwGEc9_rI"
      },
      "execution_count": null,
      "outputs": []
    }
  ]
}