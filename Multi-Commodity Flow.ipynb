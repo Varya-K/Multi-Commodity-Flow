{
  "cells": [
    {
      "cell_type": "markdown",
      "metadata": {
        "id": "9D03gVndFekz"
      },
      "source": [
        "# Multi-Commodity Flow"
      ]
    },
    {
      "cell_type": "markdown",
      "metadata": {
        "id": "X7PIgkWV-Gzh"
      },
      "source": [
        "**Выполнила: Ковалева Варвара**"
      ]
    },
    {
      "cell_type": "markdown",
      "metadata": {
        "id": "ytcoa4XVFvdN"
      },
      "source": [
        "## Постановка задачи"
      ]
    },
    {
      "cell_type": "markdown",
      "metadata": {
        "id": "28DbUl4eFzqv"
      },
      "source": [
        "### Дано:\n",
        "- Ориентированный граф $ G = (V, E) $\n",
        "- Множество товаров (commodities) $ K $\n",
        "- Для каждого товара $ k \\in K $: источник $ s_k $, сток $ t_k $, требуемый поток $ d_k $\n",
        "- Для каждого ребра $ e \\in E $: стоимость использования одним ТС $ c_e $, вместимость ТС $ C $\n",
        "- Для каждого узла $ v \\in V $: $ f_v \\in \\mathbb{R}_+ $ — стоимость перегруза единицы груза в узле $ v $, $ W_v \\in \\mathbb{R}_+ $ — максимальное количество перегруза в узле $ v $\n",
        "- Для каждого товара $ k \\in K $: $ \\Pi_k $ — множество всех возможных путей из $ s_k $ в $ t_k $ в графе $ G $\n",
        "\n",
        "---\n",
        "\n",
        "### Переменные:\n",
        "- $ x^k_p \\in \\mathbb{R}_+ $ — поток товара $ k $ по пути $ p \\in \\Pi_k $\n",
        "- $ y_e \\in \\mathbb{Z}_+ $ — количество ТС, используемых на ребре $ e \\in E $\n",
        "\n",
        "---\n",
        "\n",
        "### Целевая функция:\n",
        "$$\n",
        "\\min \\left(\n",
        "\\sum_{e \\in E} c_e \\cdot y_e +\n",
        "\\sum_{k \\in K} \\sum_{p \\in \\Pi_k}  \\sum_{\\substack{v \\in p \\\\ v \\neq s_k \\\\ v \\neq t_k}}  f_v \\cdot x^k_p\n",
        "\\right)\n",
        "$$\n",
        "\n",
        "---\n",
        "\n",
        "### Ограничения:\n",
        "\n",
        "1. **Полный поток для каждого товара:**\n",
        "   $$\n",
        "   \\sum_{p \\in \\Pi_k} x^k_p = d_k \\quad \\forall k \\in K\n",
        "   $$\n",
        "   *Обеспечивает удовлетворение спроса для каждого товара.*\n",
        "\n",
        "2. **Связь между потоком и количеством ТС:**\n",
        "   $$\n",
        "   \\sum_{k \\in K} \\sum_{p \\in \\Pi_k : e \\in p} x^k_p \\leq C \\cdot y_e \\quad \\forall e \\in E, \\quad y_e \\in \\mathbb{Z}_+\n",
        "   $$\n",
        "   *Количество ТС $ y_e $ определяется суммарным потоком на ребре $ e $.*\n",
        "\n",
        "3. **Неотрицательность потоков:**\n",
        "   $$\n",
        "   x^k_p \\geq 0 \\quad \\forall k \\in K, \\, \\forall p \\in \\Pi_k\n",
        "   $$\n",
        "\n",
        "4. **Максимальная перегрузка в узле**\n",
        "   $$\n",
        "   \\sum_{k \\in K} \\sum_{p \\in \\Pi_k}  \\sum_{\\substack{v \\in p \\\\ v \\neq s_k \\\\ v \\neq t_k}} x^k_p \\le W_e \\quad \\forall e \\in E\n",
        "   $$"
      ]
    },
    {
      "cell_type": "code",
      "execution_count": 27,
      "metadata": {
        "id": "VZd90AvZKR4D"
      },
      "outputs": [],
      "source": [
        "import pandas as pd\n",
        "import numpy as np\n",
        "import networkx as nx\n",
        "import itertools\n",
        "import time\n",
        "\n",
        "! pip install gurobipy -q\n",
        "\n",
        "import gurobipy as gp\n",
        "from gurobipy import GRB"
      ]
    },
    {
      "cell_type": "markdown",
      "metadata": {
        "id": "dAFKY7mUIxXR"
      },
      "source": [
        "## Подход к решению"
      ]
    },
    {
      "cell_type": "markdown",
      "metadata": {
        "id": "_QuT6bqGxKix"
      },
      "source": [
        "В кратце алгоритм можно разбить на два этапа:\n",
        "1. Поиск результата без учета огрничения по максимальной перегрузке в узле\n",
        "2. Разгрузка перегруженных узлов с помощью итеративного исключения их из графа"
      ]
    },
    {
      "cell_type": "markdown",
      "metadata": {
        "id": "OLh12_jTxh1A"
      },
      "source": [
        "### 1. Расчёт результата без учета максимальной перегрузки в узлах"
      ]
    },
    {
      "cell_type": "markdown",
      "metadata": {
        "id": "W76Y5JFax6Pw"
      },
      "source": [
        "После считывания данных и создания графа в виде списка ребер с стоимостями, модифицируем немного это список следующим образом: для каждого ребра добавим стоимости перегруза его концов. Это нужно для того, чтобы учесть стоимость перегруза в поиске крачайших путей.\n",
        "\n",
        "Собственно, следующий шаг и есть поиск k кратчайших путей, где k = 3.\n",
        "\n",
        "Затем с помощью солвера находим решение в путевой постановке задачи с использование найденных k кратчайших путей."
      ]
    },
    {
      "cell_type": "code",
      "execution_count": 28,
      "metadata": {
        "id": "b1-Jx5lvcnSe"
      },
      "outputs": [],
      "source": [
        "class Data: # Общие данные задачи\n",
        "  def __init__(self, vehicle_capacity, folder):\n",
        "    self.offices_ids = []\n",
        "    self.products_ids = []\n",
        "    self.edges = []\n",
        "    self.offices = {}\n",
        "    self.products = {}\n",
        "    self.edges_price = {}\n",
        "    self.vehicle_capacity = vehicle_capacity\n",
        "\n",
        "    df_offices = pd.read_csv(folder+'offices.csv', usecols=['office_id','transfer_price','transfer_max'], dtype={'office_id':int,'transfer_price':float, 'transfer_max':int})\n",
        "    df_reqs = pd.read_csv(folder+'reqs.csv', dtype={'src_office_id':int,'dst_office_id':int,'volume':int})\n",
        "    df_distance_matrix = pd.read_csv(folder+'distance_matrix.csv', usecols =['src','dst','price'], dtype={'src':int,'dst':int, 'price':float})\n",
        "\n",
        "    for(i, row) in df_offices.iterrows():\n",
        "      self.offices_ids.append(row['office_id'])\n",
        "      self.offices[row['office_id']] = (row['transfer_price'], row['transfer_max'])\n",
        "\n",
        "    for(i, row) in df_reqs.iterrows():\n",
        "      self.products_ids.append(i)\n",
        "      self.products[i] = (row['src_office_id'], row['dst_office_id'], row['volume'])\n",
        "\n",
        "    for(i, row) in df_distance_matrix.iterrows():\n",
        "      if(row['src'] != row['dst'] and row['price']>0):\n",
        "        edge = (row['src'], row['dst'])\n",
        "        self.edges.append(edge)\n",
        "        self.edges_price[edge] = row['price']\n"
      ]
    },
    {
      "cell_type": "code",
      "execution_count": 29,
      "metadata": {
        "id": "275ACEgTkpEc"
      },
      "outputs": [],
      "source": [
        "class SolverData: # Данные, необходимые для солвера\n",
        "  def __init__(self):\n",
        "    self.product_path_ids = [] # массив (индекс товара - индекс пути)\n",
        "    self.product_path_count = {} # товар - количество путей\n",
        "    self.paths = {} # рассматриваемые пути продуктов\n",
        "    self.limited_offices = set()"
      ]
    },
    {
      "cell_type": "code",
      "execution_count": 30,
      "metadata": {
        "id": "uCLLHnw0nuFq"
      },
      "outputs": [],
      "source": [
        "def count_price_of_edjes(edges_price, offices): # Расчет стоимостей ребер с учетом стоимостей перегруза в вершинах\n",
        "  edges_with_transfer_price = edges_price.copy()\n",
        "  for edge in edges_price:\n",
        "    edges_with_transfer_price[edge] += offices[edge[0]][0]+offices[edge[1]][0]\n",
        "  return edges_with_transfer_price"
      ]
    },
    {
      "cell_type": "code",
      "execution_count": 31,
      "metadata": {
        "id": "R-hB033ZmdHt"
      },
      "outputs": [],
      "source": [
        "def edges_to_nx_graph(edges_price):\n",
        "    G = nx.DiGraph()\n",
        "    for edge, price in edges_price.items():\n",
        "      G.add_edge(edge[0], edge[1], weight = price)\n",
        "    return G"
      ]
    },
    {
      "cell_type": "markdown",
      "metadata": {
        "id": "nLjzaoTi3sFP"
      },
      "source": [
        "Хоть мы и прибавили к каждому ребру стоимость перегрузки в его вершинах, стоит не забывать, что мы не учитываем эту стоимость в source и target вершинах. Поэтому в следующем методе как раз произходит вычитание их стоимостей из смежных с ними ребер."
      ]
    },
    {
      "cell_type": "code",
      "execution_count": 32,
      "metadata": {
        "id": "hi7UIBLbuOyH"
      },
      "outputs": [],
      "source": [
        "def remove_transfer_price_source_target(edges_with_transfer_price, source, target, offices):\n",
        "  edges_for_product = edges_with_transfer_price.copy()\n",
        "\n",
        "  price_source = offices[source][0]\n",
        "  price_target = offices[target][0]\n",
        "\n",
        "  prices = [price_source, price_source, price_target, price_target]\n",
        "\n",
        "  for v in offices:\n",
        "    edges = [(source, v), (v, source), (target, v), (v, target)]\n",
        "    for i in range(4):\n",
        "      if(edges[i] in edges_for_product):\n",
        "        edges_for_product[edges[i]] = edges_for_product[edges[i]] - prices[i]\n",
        "\n",
        "  return edges_for_product"
      ]
    },
    {
      "cell_type": "code",
      "execution_count": 33,
      "metadata": {
        "id": "9y5uSfRkeFon"
      },
      "outputs": [],
      "source": [
        "def calc_product_paths(edges_with_transfer_price, source, target, k, office): # Расчёт k-кратчайших путей для конкретного товара\n",
        "  edges_for_product = remove_transfer_price_source_target(edges_with_transfer_price, source, target, office)\n",
        "\n",
        "  graph = edges_to_nx_graph(edges_for_product)\n",
        "  paths_gen = nx.shortest_simple_paths(graph, source=source, target=target, weight='weight')\n",
        "  paths_list = list(itertools.islice(paths_gen, k))\n",
        "\n",
        "  return paths_list\n"
      ]
    },
    {
      "cell_type": "code",
      "execution_count": 34,
      "metadata": {
        "id": "FsXFlnauwlGR"
      },
      "outputs": [],
      "source": [
        "def calc_paths(edges_with_transfer_price, data, count_of_paths): # Расчёт кратчайших путей для всех товаров\n",
        "  paths = {}\n",
        "\n",
        "  for product, product_data in data.products.items():\n",
        "    paths[product] = calc_product_paths(edges_with_transfer_price, product_data[0], product_data[1], count_of_paths, data.offices)\n",
        "\n",
        "  return paths"
      ]
    },
    {
      "cell_type": "code",
      "execution_count": 35,
      "metadata": {
        "id": "nnqoFvSW1jcK"
      },
      "outputs": [],
      "source": [
        "def make_solver_data(paths, products): # Формирование данных для солвера\n",
        "  solver_data = SolverData()\n",
        "\n",
        "  for product, product_paths in paths.items():\n",
        "    solver_data.product_path_count[product] = len(product_paths)\n",
        "    for i, path in enumerate(product_paths):\n",
        "      solver_data.product_path_ids.append((product, i))\n",
        "      solver_data.paths[(product, i)] = path\n",
        "\n",
        "  return solver_data"
      ]
    },
    {
      "cell_type": "code",
      "execution_count": 36,
      "metadata": {
        "id": "3naIar5Q7HW2"
      },
      "outputs": [],
      "source": [
        "def solve_min_cost_flow(data, solver_data): # Реализация солвера без учета ограничения на максимальный вес перегрузки\n",
        "\n",
        "  model = gp.Model('MinCostFlow')\n",
        "\n",
        "  # Переменные\n",
        "  x = model.addVars(solver_data.product_path_ids, name='flow', vtype = GRB.CONTINUOUS)\n",
        "  y = model.addVars(data.edges, name='vehicles count', lb=0, vtype = GRB.INTEGER)\n",
        "\n",
        "  # Целевая функция\n",
        "  model.setObjective(\n",
        "      gp.quicksum(data.edges_price[e]*y[e] for e in data.edges) + gp.quicksum(gp.quicksum(data.offices[v][0]*x[x_i_p] for v in solver_data.paths[x_i_p][1:-1]) for x_i_p in solver_data.product_path_ids),\n",
        "        GRB.MINIMIZE\n",
        "    )\n",
        "\n",
        "  # Ограничения\n",
        "\n",
        "  for product in data.products_ids:\n",
        "    model.addConstr(gp.quicksum(x[(product,p_i)] for p_i in range(solver_data.product_path_count[product])) == data.products[product][2])\n",
        "\n",
        "\n",
        "  edges_paths = {edge: set() for edge in data.edges}\n",
        "  offices_paths = {office: set() for office in data.offices_ids}\n",
        "  for product_path_id, path in solver_data.paths.items():\n",
        "    for i in range(len(path)-1):\n",
        "      edges_paths[(path[i], path[i+1])].add(product_path_id)\n",
        "      if(i!=0):\n",
        "        offices_paths[path[i]].add(product_path_id)\n",
        "\n",
        "\n",
        "\n",
        "  for e in data.edges:\n",
        "    model.addConstr(gp.quicksum(x[x_i_p] for x_i_p in edges_paths[e]) <= data.vehicle_capacity*y[e])\n",
        "\n",
        "  for office in solver_data.limited_offices:\n",
        "    model.addConstr(gp.quicksum(x[x_i_p] for x_i_p in offices_paths[office])<=data.offices[office][1])\n",
        "\n",
        "  # Решение\n",
        "  model.setParam('OutputFlag', 0)\n",
        "  start_time = time.time()\n",
        "  model.optimize()\n",
        "  sol_time = time.time() - start_time\n",
        "\n",
        "  if model.status == GRB.OPTIMAL:\n",
        "    flow = {product_path_id: x[product_path_id].x for product_path_id in solver_data.product_path_ids if x[product_path_id].x>0}\n",
        "    v_count = {e: y[e].x for e in data.edges}\n",
        "    obj_val = model.objVal\n",
        "    return flow, v_count ,obj_val\n",
        "  else:\n",
        "    return None, None, None"
      ]
    },
    {
      "cell_type": "markdown",
      "metadata": {
        "id": "hJ9qQ11R4pRJ"
      },
      "source": [
        "## 2. Разгрузка перегруженых узлов"
      ]
    },
    {
      "cell_type": "markdown",
      "metadata": {
        "id": "LzHhCG574xda"
      },
      "source": [
        "На данном этапе происходит процесс разгрузки перегруженных узлов.\n",
        "\n",
        "Первым делом находим перегруженные узлы. Находим узел с наибольшим числом перегруза. Сортируем все пути через него по убыванию количества товара, которого перевозят по ним. Вычитаем данные значения количества товаров в порядке убывания из веса узла пока узел не перестанет быть перегруженным. Сохраним все удаленные пути для того чтобы найти для них альтернативные пути.\n",
        "\n",
        "Удаляем из графа этот перегруженный узел. Для каждого удаленного пути находим k-кратчайших путей для соответсвующих товаров. Грубо говоря, на данном этапе мы перестраиваем некторые пути так, чтобы избавится от перегруза, созданных в одном из узлах.\n",
        "\n",
        "Для путей из прошлого решения и новых найденных решаем задачу через солвер, добавляя ограничение на максимальный перегруз в этом узле.\n",
        "\n",
        "В любом случае, если граммотно заданы условия задачи, мы придем к ситуации, когда будет исключенно достаточно вершин и ни одна из оставшихся вершин не будет перегруженна."
      ]
    },
    {
      "cell_type": "code",
      "execution_count": 37,
      "metadata": {
        "id": "YQ9iMBAmIrAW"
      },
      "outputs": [],
      "source": [
        "class OverloadData: # Данные, расчитываемые при перегрузке вершин\n",
        "  def __init__(self):\n",
        "    self.flow = {}\n",
        "    self.overload_office = -1\n",
        "    self.overload_product = set()\n",
        "    self.overload_path_offices = {}"
      ]
    },
    {
      "cell_type": "code",
      "execution_count": 50,
      "metadata": {
        "id": "lBsaI5kKJ-4t"
      },
      "outputs": [],
      "source": [
        "def calc_overloads(data, solver_data, flow, coeff): #Расчитать необходимые данные для процесса разгрузки\n",
        "  overloads = OverloadData()\n",
        "\n",
        "  office_weight = {office: 0 for office in data.offices_ids}\n",
        "  path_offices = {product_path_id: set() for product_path_id in solver_data.product_path_ids}\n",
        "  office_paths = {office: set() for office in data.offices_ids}\n",
        "  overloads.flow = flow.copy()\n",
        "\n",
        "  for product_path_id, weight in flow.items():\n",
        "    for office in solver_data.paths[product_path_id][1:-1]:\n",
        "      office_weight[office] += weight\n",
        "      office_paths[office].add(product_path_id)\n",
        "\n",
        "  overload_office_weight = {office: office_weight[office] - data.offices[office][1] for office in data.offices_ids }\n",
        "  max_office, max_overload_weight = max(overload_office_weight.items(), key=lambda x: x[1])\n",
        "\n",
        "  if(max_overload_weight<=0):\n",
        "    return overloads\n",
        "  max_overload_weight+=data.offices[max_office][1]*coeff\n",
        "  overloads.overload_office = max_office\n",
        "\n",
        "  sorted_paths = sorted(office_paths[max_office], key=lambda x: flow[x], reverse=True)\n",
        "\n",
        "  while max_overload_weight>0 and len(sorted_paths)>0:\n",
        "    path_to_delete = sorted_paths[0]\n",
        "    sorted_paths.pop(0)\n",
        "\n",
        "    weight_to_remove = min(max_overload_weight, overloads.flow[path_to_delete])\n",
        "    max_overload_weight-=weight_to_remove\n",
        "    office_weight[max_office]-=weight_to_remove\n",
        "\n",
        "    overloads.overload_product.add(path_to_delete[0])\n",
        "\n",
        "  return overloads\n"
      ]
    },
    {
      "cell_type": "code",
      "execution_count": 39,
      "metadata": {
        "id": "eIv2B8jJeb4P"
      },
      "outputs": [],
      "source": [
        "def find_edges_with_overload_offices(edges_with_transfer_price, data, overload_offices): # Найти ребра, которые необходимо исключить в связи с исключением вершины графа\n",
        "  edges_without_overload = edges_with_transfer_price.copy()\n",
        "  for edge in edges_with_transfer_price:\n",
        "    if edge[0] in overload_offices or edge[1] in overload_offices:\n",
        "      edges_without_overload.pop(edge)\n",
        "\n",
        "  return edges_without_overload"
      ]
    },
    {
      "cell_type": "code",
      "execution_count": 40,
      "metadata": {
        "id": "Wc0MGoCSbIuU"
      },
      "outputs": [],
      "source": [
        "def calc_paths_overload(overloads, edges_with_transfer_price, data, solver_data, limited_offices, available_paths, count_of_paths): # Расчет путей при разргрузке\n",
        "  paths = {product : [] for product in data.products_ids}\n",
        "\n",
        "  for product in overloads.overload_product:\n",
        "    product_data = data.products[product]\n",
        "    overload_offices = limited_offices.copy()\n",
        "    overload_offices.discard(product_data[0])\n",
        "    overload_offices.discard(product_data[1])\n",
        "    edges_for_product = find_edges_with_overload_offices(edges_with_transfer_price, data, overload_offices)\n",
        "    paths[product] = calc_product_paths(edges_for_product, product_data[0], product_data[1], count_of_paths, data.offices)\n",
        "\n",
        "\n",
        "  for product, paths1 in available_paths.items() :\n",
        "    paths[product]+=paths1\n",
        "    unique_paths = list(dict.fromkeys(map(tuple, paths[product])))\n",
        "    paths[product] = [list(path) for path in unique_paths]\n",
        "\n",
        "\n",
        "  return paths"
      ]
    },
    {
      "cell_type": "code",
      "execution_count": 41,
      "metadata": {
        "id": "paCdu5Oys5Lv"
      },
      "outputs": [],
      "source": [
        "def get_string_from_path(path): # Вспомогательны метод для красивово вывода в файл\n",
        "  string = '('\n",
        "  for i in range(len(path)-1):\n",
        "    string += str(int(path[i]))+', '\n",
        "  string += str(int(path[-1]))+')'\n",
        "  return string"
      ]
    },
    {
      "cell_type": "code",
      "execution_count": 42,
      "metadata": {
        "id": "T8a8xi6Zoinm"
      },
      "outputs": [],
      "source": [
        "def write_result_into_file(file, flow, v_count , obj_val, sol_time, solver_data): # Запись результата в файл\n",
        "  with open(file, 'w') as f:\n",
        "    f.write('product, path, volume\\n')\n",
        "    for product_path_id, weight in flow.items():\n",
        "      f.write(str(product_path_id[0])+', '+get_string_from_path(solver_data.paths[product_path_id])+', '+str(weight)+'\\n')\n",
        "    f.write('\\nedge, vehicle_count\\n')\n",
        "    for edge, count in v_count.items():\n",
        "      if(count>0):\n",
        "        f.write('('+str(int(edge[0]))+', '+str(int(edge[1]))+'), '+str(count)+'\\n')\n",
        "    f.write('\\nResult: '+str(obj_val)+'\\n')\n",
        "    f.write('\\nSolution time: '+str(sol_time)+'\\n')"
      ]
    },
    {
      "cell_type": "code",
      "execution_count": 43,
      "metadata": {},
      "outputs": [],
      "source": [
        "def save_to_csv(file, flow, data, solver_data):\n",
        "    with open(file, 'w') as f:\n",
        "        rows = [{'src': data.products[product][0], 'dst': data.products[product][1], 'volume': volume, 'path_nodes': list(map(int, solver_data.paths[(product, path_id)]))} for (product, path_id), volume in flow.items()]\n",
        "        df = pd.DataFrame(rows)\n",
        "        df.to_csv(file, index=False, encoding='utf-8')"
      ]
    },
    {
      "cell_type": "markdown",
      "metadata": {
        "id": "kyW4WOXq9Yj9"
      },
      "source": [
        "Следующий метод и реализует весь процесс решения задачи"
      ]
    },
    {
      "cell_type": "code",
      "execution_count": 51,
      "metadata": {
        "id": "iWZrsWnyHh2p"
      },
      "outputs": [],
      "source": [
        "def solve_MCF(vehicle_capacity, folder, output_file, k1, k2, coeff):\n",
        "  start_time = time.time()\n",
        "  data = Data(vehicle_capacity,folder)\n",
        "  edges_with_transfer_price = count_price_of_edjes(data.edges_price, data.offices)\n",
        "  paths = calc_paths(edges_with_transfer_price, data, k1)\n",
        "  solver_data = make_solver_data(paths, data.products)\n",
        "  overload_path_offices = {path: set() for path in solver_data.product_path_ids}\n",
        "  limited_offices = set()\n",
        "  available_paths = {product : [] for product in data.products_ids}\n",
        "  step=1;\n",
        "\n",
        "  while (True):\n",
        "    print(len(solver_data.paths))\n",
        "    flow, v_count, obj_val = solve_min_cost_flow(data, solver_data)\n",
        "\n",
        "    if(flow == None):\n",
        "      print (\"Грустная история(\")\n",
        "      break\n",
        "\n",
        "    print (step,\". \", obj_val)\n",
        "    step+=1\n",
        "    overloads = calc_overloads(data, solver_data, flow, coeff)\n",
        "    if (overloads.overload_office == -1):\n",
        "      break\n",
        "\n",
        "    for (product, path_id) in overloads.flow :\n",
        "      available_paths[product].append(solver_data.paths[(product, path_id)])\n",
        "      unique_paths = list(dict.fromkeys(map(tuple, available_paths[product])))\n",
        "      available_paths[product] = [list(path) for path in unique_paths]\n",
        "\n",
        "    limited_offices.add(overloads.overload_office)\n",
        "    for path, offices in overloads.overload_path_offices.items():\n",
        "      overload_path_offices[path].update(offices)\n",
        "    overloads.overload_path_offices = overload_path_offices.copy()\n",
        "    paths = calc_paths_overload(overloads, edges_with_transfer_price, data, solver_data,limited_offices, available_paths, k2)\n",
        "    solver_data = make_solver_data(paths, data.products)\n",
        "    solver_data.limited_offices = limited_offices.copy()\n",
        "    \n",
        "\n",
        "  sol_time = time.time() - start_time\n",
        "  if(flow != None):\n",
        "    write_result_into_file(output_file+'.txt', flow, v_count , obj_val, sol_time, solver_data)\n",
        "    save_to_csv(output_file+'.csv', flow, data, solver_data)\n",
        "    print('Result: '+str(obj_val)+'\\n')\n",
        "    print('Solution time: '+str(sol_time)+'\\n')\n"
      ]
    },
    {
      "cell_type": "markdown",
      "metadata": {
        "id": "SUoh-1249euA"
      },
      "source": [
        "## Результаты"
      ]
    },
    {
      "cell_type": "code",
      "execution_count": 54,
      "metadata": {
        "colab": {
          "base_uri": "https://localhost:8080/"
        },
        "id": "QefDr_nSHabx",
        "outputId": "0103e1e7-236b-4449-af0b-334f840c4a0a"
      },
      "outputs": [
        {
          "name": "stdout",
          "output_type": "stream",
          "text": [
            "7\n",
            "1 .  24080.0\n",
            "7\n",
            "2 .  24080.0\n",
            "Result: 24080.0\n",
            "\n",
            "Solution time: 0.03991842269897461\n",
            "\n"
          ]
        }
      ],
      "source": [
        "solve_MCF(60, 'MCF/4_nodes/', 'results/4_nodes_result', 3,5, 0.5)"
      ]
    },
    {
      "cell_type": "code",
      "execution_count": 55,
      "metadata": {},
      "outputs": [
        {
          "name": "stdout",
          "output_type": "stream",
          "text": [
            "78\n",
            "1 .  1061889204.0799999\n",
            "86\n",
            "2 .  1087981994.4534\n",
            "82\n",
            "3 .  1117762431.941\n",
            "71\n",
            "4 .  1151696015.7944\n",
            "Result: 1151696015.7944\n",
            "\n",
            "Solution time: 0.1624915599822998\n",
            "\n"
          ]
        }
      ],
      "source": [
        "solve_MCF(90, 'MCF/10_nodes/', 'results/10_nodes_result', 3, 4, 1)"
      ]
    },
    {
      "cell_type": "code",
      "execution_count": 56,
      "metadata": {
        "colab": {
          "base_uri": "https://localhost:8080/"
        },
        "id": "HxFRkThd9ks-",
        "outputId": "0169e36e-f332-4823-f26c-893b38758a39"
      },
      "outputs": [
        {
          "name": "stdout",
          "output_type": "stream",
          "text": [
            "460\n",
            "1 .  11381814192.854599\n",
            "188\n",
            "2 .  12281568671.4964\n",
            "197\n",
            "3 .  12344033209.403\n",
            "209\n",
            "4 .  12838870044.8584\n",
            "226\n",
            "5 .  13107428245.9674\n",
            "237\n",
            "6 .  13654306007.8412\n",
            "252\n",
            "7 .  14002977568.604\n",
            "280\n",
            "8 .  14755425026.6198\n",
            "293\n",
            "9 .  17634959956.568\n",
            "301\n",
            "10 .  17978443353.628\n",
            "322\n",
            "11 .  19487069269.1542\n",
            "320\n",
            "12 .  19918798396.0446\n",
            "333\n",
            "13 .  20462420504.688\n",
            "344\n",
            "14 .  21491225545.698803\n",
            "343\n",
            "15 .  22427297285.466805\n",
            "340\n",
            "16 .  22538827201.048477\n",
            "340\n",
            "17 .  23088952432.7368\n",
            "Result: 23088952432.7368\n",
            "\n",
            "Solution time: 356.59616565704346\n",
            "\n"
          ]
        }
      ],
      "source": [
        "solve_MCF(90, 'MCF/20_nodes/', 'results/20_nodes_result', 4, 2, 0.5)"
      ]
    },
    {
      "cell_type": "markdown",
      "metadata": {
        "id": "3rza2F4-UwZG"
      },
      "source": [
        "А при попытке протестировать датасет с 50 и 140 вершинами столкнулась с ограничениями лиценции солвера ☹"
      ]
    },
    {
      "cell_type": "code",
      "execution_count": null,
      "metadata": {
        "colab": {
          "base_uri": "https://localhost:8080/",
          "height": 287
        },
        "id": "uOK5Iwbd9lI6",
        "outputId": "57f9f705-b132-45f5-c42f-c05705236c71"
      },
      "outputs": [
        {
          "name": "stdout",
          "output_type": "stream",
          "text": [
            "6318\n"
          ]
        },
        {
          "ename": "GurobiError",
          "evalue": "Model too large for size-limited license; visit https://gurobi.com/unrestricted for more information",
          "output_type": "error",
          "traceback": [
            "\u001b[1;31m---------------------------------------------------------------------------\u001b[0m",
            "\u001b[1;31mGurobiError\u001b[0m                               Traceback (most recent call last)",
            "Cell \u001b[1;32mIn[23], line 1\u001b[0m\n\u001b[1;32m----> 1\u001b[0m \u001b[43msolve_MCF\u001b[49m\u001b[43m(\u001b[49m\u001b[38;5;241;43m90\u001b[39;49m\u001b[43m,\u001b[49m\u001b[43m \u001b[49m\u001b[38;5;124;43m'\u001b[39;49m\u001b[38;5;124;43mMCF/50_nodes/\u001b[39;49m\u001b[38;5;124;43m'\u001b[39;49m\u001b[43m,\u001b[49m\u001b[43m \u001b[49m\u001b[38;5;124;43m'\u001b[39;49m\u001b[38;5;124;43mresults/50_nodes_result\u001b[39;49m\u001b[38;5;124;43m'\u001b[39;49m\u001b[43m)\u001b[49m\n",
            "Cell \u001b[1;32mIn[21], line 14\u001b[0m, in \u001b[0;36msolve_MCF\u001b[1;34m(vehicle_capacity, folder, output_file)\u001b[0m\n\u001b[0;32m     12\u001b[0m \u001b[38;5;28;01mwhile\u001b[39;00m (\u001b[38;5;28;01mTrue\u001b[39;00m):\n\u001b[0;32m     13\u001b[0m   \u001b[38;5;28mprint\u001b[39m(\u001b[38;5;28mlen\u001b[39m(solver_data\u001b[38;5;241m.\u001b[39mpaths))\n\u001b[1;32m---> 14\u001b[0m   flow, v_count, obj_val \u001b[38;5;241m=\u001b[39m \u001b[43msolve_min_cost_flow\u001b[49m\u001b[43m(\u001b[49m\u001b[43mdata\u001b[49m\u001b[43m,\u001b[49m\u001b[43m \u001b[49m\u001b[43msolver_data\u001b[49m\u001b[43m)\u001b[49m\n\u001b[0;32m     16\u001b[0m   \u001b[38;5;28;01mif\u001b[39;00m(flow \u001b[38;5;241m==\u001b[39m \u001b[38;5;28;01mNone\u001b[39;00m):\n\u001b[0;32m     17\u001b[0m     \u001b[38;5;28mprint\u001b[39m (\u001b[38;5;124m\"\u001b[39m\u001b[38;5;124mГрустная история(\u001b[39m\u001b[38;5;124m\"\u001b[39m)\n",
            "Cell \u001b[1;32mIn[12], line 40\u001b[0m, in \u001b[0;36msolve_min_cost_flow\u001b[1;34m(data, solver_data)\u001b[0m\n\u001b[0;32m     38\u001b[0m model\u001b[38;5;241m.\u001b[39msetParam(\u001b[38;5;124m'\u001b[39m\u001b[38;5;124mOutputFlag\u001b[39m\u001b[38;5;124m'\u001b[39m, \u001b[38;5;241m0\u001b[39m)\n\u001b[0;32m     39\u001b[0m start_time \u001b[38;5;241m=\u001b[39m time\u001b[38;5;241m.\u001b[39mtime()\n\u001b[1;32m---> 40\u001b[0m \u001b[43mmodel\u001b[49m\u001b[38;5;241;43m.\u001b[39;49m\u001b[43moptimize\u001b[49m\u001b[43m(\u001b[49m\u001b[43m)\u001b[49m\n\u001b[0;32m     41\u001b[0m sol_time \u001b[38;5;241m=\u001b[39m time\u001b[38;5;241m.\u001b[39mtime() \u001b[38;5;241m-\u001b[39m start_time\n\u001b[0;32m     43\u001b[0m \u001b[38;5;28;01mif\u001b[39;00m model\u001b[38;5;241m.\u001b[39mstatus \u001b[38;5;241m==\u001b[39m GRB\u001b[38;5;241m.\u001b[39mOPTIMAL:\n",
            "File \u001b[1;32msrc\\\\gurobipy\\\\_model.pyx:903\u001b[0m, in \u001b[0;36mgurobipy._model.Model.optimize\u001b[1;34m()\u001b[0m\n",
            "\u001b[1;31mGurobiError\u001b[0m: Model too large for size-limited license; visit https://gurobi.com/unrestricted for more information"
          ]
        }
      ],
      "source": [
        "solve_MCF(90, 'MCF/50_nodes/', 'results/50_nodes_result')"
      ]
    },
    {
      "cell_type": "code",
      "execution_count": null,
      "metadata": {
        "id": "ksVAHzee9lgi"
      },
      "outputs": [],
      "source": [
        "solve_MCF(90, '  MCF/140_nodes/', 'results/140_nodes_results')"
      ]
    },
    {
      "cell_type": "markdown",
      "metadata": {
        "id": "cWj-dzYS9sgt"
      },
      "source": [
        "## Точное решение"
      ]
    },
    {
      "cell_type": "markdown",
      "metadata": {
        "id": "RMBWxmrE9yzX"
      },
      "source": [
        "Здесь я добавила решение задачи точным образом с помощью потоковой постановки задачи"
      ]
    },
    {
      "cell_type": "code",
      "execution_count": null,
      "metadata": {
        "id": "-hk78vZAKGA1"
      },
      "outputs": [],
      "source": [
        "class OptimSolverData:\n",
        "  def __init__(self):\n",
        "    self.product_edge_ids = [] # массив (индекс товара - индекс ребра)\n",
        "    self.edge_in = {}\n",
        "    self.edge_out = {}"
      ]
    },
    {
      "cell_type": "code",
      "execution_count": null,
      "metadata": {
        "id": "yViPolAHLOs1"
      },
      "outputs": [],
      "source": [
        "def solve_optim_MCF(vehicle_capacity, folder):\n",
        "  start_time = time.time()\n",
        "  data = Data(vehicle_capacity, folder)\n",
        "\n",
        "  optim_solver_data = OptimSolverData()\n",
        "  optim_solver_data.edge_in = {office: set() for office in data.offices_ids}\n",
        "  optim_solver_data.edge_out = {office: set() for office in data.offices_ids}\n",
        "  for edge in data.edges:\n",
        "    for product in data.products_ids:\n",
        "      optim_solver_data.product_edge_ids.append((edge, product))\n",
        "    for office in data.offices_ids:\n",
        "      optim_solver_data.edge_out[edge[0]].add(edge)\n",
        "      optim_solver_data.edge_in[edge[1]].add(edge)\n",
        "\n",
        "  flow, v_count , obj_val = ground_truth_solve_min_cost_flow(data, optim_solver_data)\n",
        "  sol_time = time.time() - start_time\n",
        "  print('Result: '+str(obj_val)+'\\n')\n",
        "  print('Solution time: '+str(sol_time)+'\\n')\n"
      ]
    },
    {
      "cell_type": "code",
      "execution_count": null,
      "metadata": {
        "id": "l2zvezcrJNj-"
      },
      "outputs": [],
      "source": [
        "def ground_truth_solve_min_cost_flow(data, solver_data):\n",
        "\n",
        "  model = gp.Model('MinCostFlow')\n",
        "\n",
        "  # Переменные\n",
        "  x = model.addVars(solver_data.product_edge_ids, name='flow', vtype = GRB.CONTINUOUS)\n",
        "  y = model.addVars(data.edges, name='vehicles count', lb=0, vtype = GRB.INTEGER)\n",
        "\n",
        "  # Целевая функция\n",
        "  model.setObjective(\n",
        "      gp.quicksum(data.edges_price[e]*y[e] for e in data.edges) + gp.quicksum(data.offices[office][0] * gp.quicksum(x[x_i_p] for x_i_p in solver_data.product_edge_ids if data.products[x_i_p[1]][0] != office and data.products[x_i_p[1]][1]!= office and x_i_p[0] in solver_data.edge_in[office]) for office in data.offices_ids),\n",
        "        GRB.MINIMIZE\n",
        "    )\n",
        "\n",
        "  # Ограничения\n",
        "\n",
        "  for product in data.products_ids:\n",
        "    for office in data.offices_ids:\n",
        "      if (office == data.products[product][0]):\n",
        "        model.addConstr(gp.quicksum(x[(edge, product)] for edge in solver_data.edge_out[office]) - gp.quicksum(x[(edge, product)] for edge in solver_data.edge_in[office]) == data.products[product][2])\n",
        "      elif (office == data.products[product][1]):\n",
        "        model.addConstr(gp.quicksum(x[(edge, product)] for edge in solver_data.edge_out[office]) - gp.quicksum(x[(edge, product)] for edge in solver_data.edge_in[office]) == -data.products[product][2])\n",
        "      else:\n",
        "        model.addConstr(gp.quicksum(x[(edge, product)] for edge in solver_data.edge_out[office]) - gp.quicksum(x[(edge, product)] for edge in solver_data.edge_in[office]) == 0)\n",
        "\n",
        "\n",
        "  for edge in data.edges:\n",
        "    model.addConstr(gp.quicksum(x[(edge, product)] for product in data.products_ids) <= data.vehicle_capacity*y[edge])\n",
        "\n",
        "  for office in data.offices_ids:\n",
        "    model.addConstr(gp.quicksum(x[x_i_p] for x_i_p in solver_data.product_edge_ids if data.products[x_i_p[1]][0] != office and data.products[x_i_p[1]][1]!= office and x_i_p[0] in solver_data.edge_in[office])<= data.offices[office][1])\n",
        "\n",
        "  # Решение\n",
        "  model.setParam('OutputFlag', 0)\n",
        "  model.optimize()\n",
        "\n",
        "  if model.status == GRB.OPTIMAL:\n",
        "    flow = {product_edge_id: x[product_edge_id].x for product_edge_id in solver_data.product_edge_ids if x[product_edge_id].x>0}\n",
        "    v_count = {e: y[e].x for e in data.edges}\n",
        "    obj_val = model.objVal\n",
        "    return flow, v_count ,obj_val\n",
        "  else:\n",
        "    return None, None, None"
      ]
    },
    {
      "cell_type": "code",
      "execution_count": null,
      "metadata": {
        "id": "u5LwG5F4uEes"
      },
      "outputs": [],
      "source": [
        "solve_optim_MCF(90, '/content/drive/My Drive/Colab Notebooks/MCF/10_nodes/')"
      ]
    },
    {
      "cell_type": "code",
      "execution_count": null,
      "metadata": {
        "id": "Bp2FSVPH9-_s"
      },
      "outputs": [
        {
          "ename": "GurobiError",
          "evalue": "Model too large for size-limited license; visit https://gurobi.com/unrestricted for more information",
          "output_type": "error",
          "traceback": [
            "\u001b[1;31m---------------------------------------------------------------------------\u001b[0m",
            "\u001b[1;31mGurobiError\u001b[0m                               Traceback (most recent call last)",
            "Cell \u001b[1;32mIn[38], line 1\u001b[0m\n\u001b[1;32m----> 1\u001b[0m \u001b[43msolve_optim_MCF\u001b[49m\u001b[43m(\u001b[49m\u001b[38;5;241;43m90\u001b[39;49m\u001b[43m,\u001b[49m\u001b[43m \u001b[49m\u001b[38;5;124;43m'\u001b[39;49m\u001b[38;5;124;43mMCF/20_nodes/\u001b[39;49m\u001b[38;5;124;43m'\u001b[39;49m\u001b[43m)\u001b[49m\n",
            "Cell \u001b[1;32mIn[35], line 15\u001b[0m, in \u001b[0;36msolve_optim_MCF\u001b[1;34m(vehicle_capacity, folder)\u001b[0m\n\u001b[0;32m     12\u001b[0m     optim_solver_data\u001b[38;5;241m.\u001b[39medge_out[edge[\u001b[38;5;241m0\u001b[39m]]\u001b[38;5;241m.\u001b[39madd(edge)\n\u001b[0;32m     13\u001b[0m     optim_solver_data\u001b[38;5;241m.\u001b[39medge_in[edge[\u001b[38;5;241m1\u001b[39m]]\u001b[38;5;241m.\u001b[39madd(edge)\n\u001b[1;32m---> 15\u001b[0m flow, v_count , obj_val \u001b[38;5;241m=\u001b[39m \u001b[43mground_truth_solve_min_cost_flow\u001b[49m\u001b[43m(\u001b[49m\u001b[43mdata\u001b[49m\u001b[43m,\u001b[49m\u001b[43m \u001b[49m\u001b[43moptim_solver_data\u001b[49m\u001b[43m)\u001b[49m\n\u001b[0;32m     16\u001b[0m sol_time \u001b[38;5;241m=\u001b[39m time\u001b[38;5;241m.\u001b[39mtime() \u001b[38;5;241m-\u001b[39m start_time\n\u001b[0;32m     17\u001b[0m \u001b[38;5;28mprint\u001b[39m(\u001b[38;5;124m'\u001b[39m\u001b[38;5;124mResult: \u001b[39m\u001b[38;5;124m'\u001b[39m\u001b[38;5;241m+\u001b[39m\u001b[38;5;28mstr\u001b[39m(obj_val)\u001b[38;5;241m+\u001b[39m\u001b[38;5;124m'\u001b[39m\u001b[38;5;130;01m\\n\u001b[39;00m\u001b[38;5;124m'\u001b[39m)\n",
            "Cell \u001b[1;32mIn[36], line 35\u001b[0m, in \u001b[0;36mground_truth_solve_min_cost_flow\u001b[1;34m(data, solver_data)\u001b[0m\n\u001b[0;32m     33\u001b[0m \u001b[38;5;66;03m# Решение\u001b[39;00m\n\u001b[0;32m     34\u001b[0m model\u001b[38;5;241m.\u001b[39msetParam(\u001b[38;5;124m'\u001b[39m\u001b[38;5;124mOutputFlag\u001b[39m\u001b[38;5;124m'\u001b[39m, \u001b[38;5;241m0\u001b[39m)\n\u001b[1;32m---> 35\u001b[0m \u001b[43mmodel\u001b[49m\u001b[38;5;241;43m.\u001b[39;49m\u001b[43moptimize\u001b[49m\u001b[43m(\u001b[49m\u001b[43m)\u001b[49m\n\u001b[0;32m     37\u001b[0m \u001b[38;5;28;01mif\u001b[39;00m model\u001b[38;5;241m.\u001b[39mstatus \u001b[38;5;241m==\u001b[39m GRB\u001b[38;5;241m.\u001b[39mOPTIMAL:\n\u001b[0;32m     38\u001b[0m   flow \u001b[38;5;241m=\u001b[39m {product_edge_id: x[product_edge_id]\u001b[38;5;241m.\u001b[39mx \u001b[38;5;28;01mfor\u001b[39;00m product_edge_id \u001b[38;5;129;01min\u001b[39;00m solver_data\u001b[38;5;241m.\u001b[39mproduct_edge_ids \u001b[38;5;28;01mif\u001b[39;00m x[product_edge_id]\u001b[38;5;241m.\u001b[39mx\u001b[38;5;241m>\u001b[39m\u001b[38;5;241m0\u001b[39m}\n",
            "File \u001b[1;32msrc\\\\gurobipy\\\\_model.pyx:903\u001b[0m, in \u001b[0;36mgurobipy._model.Model.optimize\u001b[1;34m()\u001b[0m\n",
            "\u001b[1;31mGurobiError\u001b[0m: Model too large for size-limited license; visit https://gurobi.com/unrestricted for more information"
          ]
        }
      ],
      "source": [
        "solve_optim_MCF(90, 'MCF/20_nodes/')"
      ]
    },
    {
      "cell_type": "code",
      "execution_count": null,
      "metadata": {
        "id": "05vPq9sS9_X0"
      },
      "outputs": [],
      "source": [
        "solve_optim_MCF(90, '/content/drive/My Drive/Colab Notebooks/MCF/50_nodes/')"
      ]
    },
    {
      "cell_type": "code",
      "execution_count": null,
      "metadata": {
        "id": "0abAwGEc9_rI"
      },
      "outputs": [],
      "source": [
        "solve_optim_MCF(90, '/content/drive/My Drive/Colab Notebooks/MCF/140_nodes/')"
      ]
    }
  ],
  "metadata": {
    "colab": {
      "provenance": []
    },
    "kernelspec": {
      "display_name": "Python 3",
      "name": "python3"
    },
    "language_info": {
      "codemirror_mode": {
        "name": "ipython",
        "version": 3
      },
      "file_extension": ".py",
      "mimetype": "text/x-python",
      "name": "python",
      "nbconvert_exporter": "python",
      "pygments_lexer": "ipython3",
      "version": "3.13.1"
    }
  },
  "nbformat": 4,
  "nbformat_minor": 0
}
